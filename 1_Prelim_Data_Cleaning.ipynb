{
  "nbformat": 4,
  "nbformat_minor": 0,
  "metadata": {
    "colab": {
      "provenance": [],
      "collapsed_sections": [
        "fDMbm1kgv8Sr",
        "8bx3OiJLEFf5",
        "c7XOj_2FNLQ3",
        "3QUu1i_5MHVC"
      ]
    },
    "kernelspec": {
      "name": "python3",
      "display_name": "Python 3"
    },
    "language_info": {
      "name": "python"
    }
  },
  "cells": [
    {
      "cell_type": "markdown",
      "source": [
        "# Mount Notebook to Drive\n"
      ],
      "metadata": {
        "id": "p3bh0pfR8ARU"
      }
    },
    {
      "cell_type": "code",
      "execution_count": null,
      "metadata": {
        "id": "inVNPOSauFeP",
        "colab": {
          "base_uri": "https://localhost:8080/"
        },
        "outputId": "3368a53b-1baa-4574-833a-db13405515eb"
      },
      "outputs": [
        {
          "output_type": "stream",
          "name": "stdout",
          "text": [
            "Mounted at /content/drive\n",
            "/content/drive/Shared drives/CS129_Milestone/vaccine_data\n"
          ]
        }
      ],
      "source": [
        "from google.colab import drive\n",
        "drive.mount('/content/drive', force_remount=True)\n",
        "FOLDERNAME = 'vaccine_data'\n",
        "assert FOLDERNAME is not None, \"[!] Enter the foldername.\"\n",
        "\n",
        "import sys\n",
        "PATH = '/content/drive/Shared drives/CS129_Milestone/{}'.format(FOLDERNAME)\n",
        "sys.path.append(PATH)\n",
        "\n",
        "%cd $PATH"
      ]
    },
    {
      "cell_type": "markdown",
      "source": [
        "##Original Data: https://github.com/myprogrammerpersonality/vaccine-sideeffect-prediction"
      ],
      "metadata": {
        "id": "musuh2AHbYcA"
      }
    },
    {
      "cell_type": "markdown",
      "source": [
        "# Data Reading\n",
        "For now, we read only the data for the first dose"
      ],
      "metadata": {
        "id": "fDMbm1kgv8Sr"
      }
    },
    {
      "cell_type": "code",
      "source": [
        "import pandas as pd"
      ],
      "metadata": {
        "id": "3i200UKFvuJB"
      },
      "execution_count": null,
      "outputs": []
    },
    {
      "cell_type": "code",
      "source": [
        "df_AstraZena_1 = pd.read_csv('AstraZeneca_1_2021-07-31.csv')\n",
        "df_Covaxin_1 = pd.read_csv('Covaxin_1_2021-09-06.csv')\n",
        "df_Moderna_1A = pd.read_csv('MRNA_1_2021-09-09.csv')\n",
        "df_Moderna_1B = pd.read_csv('Moderna_1_2021-09-09.csv')\n",
        "df_Pfizer_1 = pd.read_csv('Pfizer_1_2021-09-09.csv')\n",
        "df_Sino_1 = pd.read_csv('Sinopharm_1_2021-07-31.csv')\n",
        "df_Sputnik_1 = pd.read_csv('SputnikV_1_2021-07-31.csv')"
      ],
      "metadata": {
        "id": "JU6YImGyv3Qp"
      },
      "execution_count": null,
      "outputs": []
    },
    {
      "cell_type": "code",
      "source": [
        "print(df_AstraZena_1.shape)\n",
        "print(df_Covaxin_1.shape)\n",
        "print(df_Moderna_1A.shape)\n",
        "print(df_Moderna_1B.shape)\n",
        "print(df_Pfizer_1.shape)\n",
        "print(df_Sino_1.shape)\n",
        "print(df_Sputnik_1.shape)"
      ],
      "metadata": {
        "colab": {
          "base_uri": "https://localhost:8080/"
        },
        "id": "0Kv6-ayv3CAK",
        "outputId": "878009eb-46d2-4378-8f7f-e1a6e129e525"
      },
      "execution_count": null,
      "outputs": [
        {
          "output_type": "stream",
          "name": "stdout",
          "text": [
            "(6118, 59)\n",
            "(814, 59)\n",
            "(556, 59)\n",
            "(276, 59)\n",
            "(280, 59)\n",
            "(5460, 59)\n",
            "(7394, 59)\n"
          ]
        }
      ]
    },
    {
      "cell_type": "markdown",
      "source": [
        "Note: 0 = Male, 1 = Female"
      ],
      "metadata": {
        "id": "iFzK6DKb35Qe"
      }
    },
    {
      "cell_type": "code",
      "source": [
        "df_AstraZena_1.head()"
      ],
      "metadata": {
        "colab": {
          "base_uri": "https://localhost:8080/",
          "height": 300
        },
        "id": "XdCKwGNI3EoX",
        "outputId": "f6adcdba-35aa-4579-82ce-129edcec0f13"
      },
      "execution_count": null,
      "outputs": [
        {
          "output_type": "execute_result",
          "data": {
            "text/plain": [
              "   Sex   Age  Height  Weight  A  AB  B  O  Smoking  Narcotics  ...  \\\n",
              "0    0  33.0   164.0    56.0  0   0  0  1        0          0  ...   \n",
              "1    0  33.0   164.0    56.0  0   0  0  1        0          0  ...   \n",
              "2    0  41.0   156.0    70.0  1   0  0  0        1          0  ...   \n",
              "3    0  62.0   157.0    65.0  0   1  0  0        1          0  ...   \n",
              "4    0  25.0   163.0    73.0  0   0  1  0        0          0  ...   \n",
              "\n",
              "   Dose1_Fatigue  Dose1_Headache  Dose1_Nausea  Dose1_Chills  \\\n",
              "0              0               1             0             0   \n",
              "1              0               1             0             0   \n",
              "2              1               1             0             0   \n",
              "3              1               0             0             0   \n",
              "4              1               1             0             1   \n",
              "\n",
              "   Dose1_Needle_Redness  Dose1_Joint_Pain  Dose1_Muscle_Pain  Dose1_Other  \\\n",
              "0                     0                 0                  0            0   \n",
              "1                     0                 0                  0            0   \n",
              "2                     0                 1                  1            0   \n",
              "3                     0                 0                  0            0   \n",
              "4                     0                 1                  1            0   \n",
              "\n",
              "   Dose1_Needle_Swelling        BMI  \n",
              "0                      0  20.820940  \n",
              "1                      0  20.820940  \n",
              "2                      0  28.763971  \n",
              "3                      0  26.370238  \n",
              "4                      0  27.475629  \n",
              "\n",
              "[5 rows x 59 columns]"
            ],
            "text/html": [
              "\n",
              "  <div id=\"df-77c5c19a-2f8c-4445-bd70-25a77af564c7\">\n",
              "    <div class=\"colab-df-container\">\n",
              "      <div>\n",
              "<style scoped>\n",
              "    .dataframe tbody tr th:only-of-type {\n",
              "        vertical-align: middle;\n",
              "    }\n",
              "\n",
              "    .dataframe tbody tr th {\n",
              "        vertical-align: top;\n",
              "    }\n",
              "\n",
              "    .dataframe thead th {\n",
              "        text-align: right;\n",
              "    }\n",
              "</style>\n",
              "<table border=\"1\" class=\"dataframe\">\n",
              "  <thead>\n",
              "    <tr style=\"text-align: right;\">\n",
              "      <th></th>\n",
              "      <th>Sex</th>\n",
              "      <th>Age</th>\n",
              "      <th>Height</th>\n",
              "      <th>Weight</th>\n",
              "      <th>A</th>\n",
              "      <th>AB</th>\n",
              "      <th>B</th>\n",
              "      <th>O</th>\n",
              "      <th>Smoking</th>\n",
              "      <th>Narcotics</th>\n",
              "      <th>...</th>\n",
              "      <th>Dose1_Fatigue</th>\n",
              "      <th>Dose1_Headache</th>\n",
              "      <th>Dose1_Nausea</th>\n",
              "      <th>Dose1_Chills</th>\n",
              "      <th>Dose1_Needle_Redness</th>\n",
              "      <th>Dose1_Joint_Pain</th>\n",
              "      <th>Dose1_Muscle_Pain</th>\n",
              "      <th>Dose1_Other</th>\n",
              "      <th>Dose1_Needle_Swelling</th>\n",
              "      <th>BMI</th>\n",
              "    </tr>\n",
              "  </thead>\n",
              "  <tbody>\n",
              "    <tr>\n",
              "      <th>0</th>\n",
              "      <td>0</td>\n",
              "      <td>33.0</td>\n",
              "      <td>164.0</td>\n",
              "      <td>56.0</td>\n",
              "      <td>0</td>\n",
              "      <td>0</td>\n",
              "      <td>0</td>\n",
              "      <td>1</td>\n",
              "      <td>0</td>\n",
              "      <td>0</td>\n",
              "      <td>...</td>\n",
              "      <td>0</td>\n",
              "      <td>1</td>\n",
              "      <td>0</td>\n",
              "      <td>0</td>\n",
              "      <td>0</td>\n",
              "      <td>0</td>\n",
              "      <td>0</td>\n",
              "      <td>0</td>\n",
              "      <td>0</td>\n",
              "      <td>20.820940</td>\n",
              "    </tr>\n",
              "    <tr>\n",
              "      <th>1</th>\n",
              "      <td>0</td>\n",
              "      <td>33.0</td>\n",
              "      <td>164.0</td>\n",
              "      <td>56.0</td>\n",
              "      <td>0</td>\n",
              "      <td>0</td>\n",
              "      <td>0</td>\n",
              "      <td>1</td>\n",
              "      <td>0</td>\n",
              "      <td>0</td>\n",
              "      <td>...</td>\n",
              "      <td>0</td>\n",
              "      <td>1</td>\n",
              "      <td>0</td>\n",
              "      <td>0</td>\n",
              "      <td>0</td>\n",
              "      <td>0</td>\n",
              "      <td>0</td>\n",
              "      <td>0</td>\n",
              "      <td>0</td>\n",
              "      <td>20.820940</td>\n",
              "    </tr>\n",
              "    <tr>\n",
              "      <th>2</th>\n",
              "      <td>0</td>\n",
              "      <td>41.0</td>\n",
              "      <td>156.0</td>\n",
              "      <td>70.0</td>\n",
              "      <td>1</td>\n",
              "      <td>0</td>\n",
              "      <td>0</td>\n",
              "      <td>0</td>\n",
              "      <td>1</td>\n",
              "      <td>0</td>\n",
              "      <td>...</td>\n",
              "      <td>1</td>\n",
              "      <td>1</td>\n",
              "      <td>0</td>\n",
              "      <td>0</td>\n",
              "      <td>0</td>\n",
              "      <td>1</td>\n",
              "      <td>1</td>\n",
              "      <td>0</td>\n",
              "      <td>0</td>\n",
              "      <td>28.763971</td>\n",
              "    </tr>\n",
              "    <tr>\n",
              "      <th>3</th>\n",
              "      <td>0</td>\n",
              "      <td>62.0</td>\n",
              "      <td>157.0</td>\n",
              "      <td>65.0</td>\n",
              "      <td>0</td>\n",
              "      <td>1</td>\n",
              "      <td>0</td>\n",
              "      <td>0</td>\n",
              "      <td>1</td>\n",
              "      <td>0</td>\n",
              "      <td>...</td>\n",
              "      <td>1</td>\n",
              "      <td>0</td>\n",
              "      <td>0</td>\n",
              "      <td>0</td>\n",
              "      <td>0</td>\n",
              "      <td>0</td>\n",
              "      <td>0</td>\n",
              "      <td>0</td>\n",
              "      <td>0</td>\n",
              "      <td>26.370238</td>\n",
              "    </tr>\n",
              "    <tr>\n",
              "      <th>4</th>\n",
              "      <td>0</td>\n",
              "      <td>25.0</td>\n",
              "      <td>163.0</td>\n",
              "      <td>73.0</td>\n",
              "      <td>0</td>\n",
              "      <td>0</td>\n",
              "      <td>1</td>\n",
              "      <td>0</td>\n",
              "      <td>0</td>\n",
              "      <td>0</td>\n",
              "      <td>...</td>\n",
              "      <td>1</td>\n",
              "      <td>1</td>\n",
              "      <td>0</td>\n",
              "      <td>1</td>\n",
              "      <td>0</td>\n",
              "      <td>1</td>\n",
              "      <td>1</td>\n",
              "      <td>0</td>\n",
              "      <td>0</td>\n",
              "      <td>27.475629</td>\n",
              "    </tr>\n",
              "  </tbody>\n",
              "</table>\n",
              "<p>5 rows × 59 columns</p>\n",
              "</div>\n",
              "      <button class=\"colab-df-convert\" onclick=\"convertToInteractive('df-77c5c19a-2f8c-4445-bd70-25a77af564c7')\"\n",
              "              title=\"Convert this dataframe to an interactive table.\"\n",
              "              style=\"display:none;\">\n",
              "        \n",
              "  <svg xmlns=\"http://www.w3.org/2000/svg\" height=\"24px\"viewBox=\"0 0 24 24\"\n",
              "       width=\"24px\">\n",
              "    <path d=\"M0 0h24v24H0V0z\" fill=\"none\"/>\n",
              "    <path d=\"M18.56 5.44l.94 2.06.94-2.06 2.06-.94-2.06-.94-.94-2.06-.94 2.06-2.06.94zm-11 1L8.5 8.5l.94-2.06 2.06-.94-2.06-.94L8.5 2.5l-.94 2.06-2.06.94zm10 10l.94 2.06.94-2.06 2.06-.94-2.06-.94-.94-2.06-.94 2.06-2.06.94z\"/><path d=\"M17.41 7.96l-1.37-1.37c-.4-.4-.92-.59-1.43-.59-.52 0-1.04.2-1.43.59L10.3 9.45l-7.72 7.72c-.78.78-.78 2.05 0 2.83L4 21.41c.39.39.9.59 1.41.59.51 0 1.02-.2 1.41-.59l7.78-7.78 2.81-2.81c.8-.78.8-2.07 0-2.86zM5.41 20L4 18.59l7.72-7.72 1.47 1.35L5.41 20z\"/>\n",
              "  </svg>\n",
              "      </button>\n",
              "      \n",
              "  <style>\n",
              "    .colab-df-container {\n",
              "      display:flex;\n",
              "      flex-wrap:wrap;\n",
              "      gap: 12px;\n",
              "    }\n",
              "\n",
              "    .colab-df-convert {\n",
              "      background-color: #E8F0FE;\n",
              "      border: none;\n",
              "      border-radius: 50%;\n",
              "      cursor: pointer;\n",
              "      display: none;\n",
              "      fill: #1967D2;\n",
              "      height: 32px;\n",
              "      padding: 0 0 0 0;\n",
              "      width: 32px;\n",
              "    }\n",
              "\n",
              "    .colab-df-convert:hover {\n",
              "      background-color: #E2EBFA;\n",
              "      box-shadow: 0px 1px 2px rgba(60, 64, 67, 0.3), 0px 1px 3px 1px rgba(60, 64, 67, 0.15);\n",
              "      fill: #174EA6;\n",
              "    }\n",
              "\n",
              "    [theme=dark] .colab-df-convert {\n",
              "      background-color: #3B4455;\n",
              "      fill: #D2E3FC;\n",
              "    }\n",
              "\n",
              "    [theme=dark] .colab-df-convert:hover {\n",
              "      background-color: #434B5C;\n",
              "      box-shadow: 0px 1px 3px 1px rgba(0, 0, 0, 0.15);\n",
              "      filter: drop-shadow(0px 1px 2px rgba(0, 0, 0, 0.3));\n",
              "      fill: #FFFFFF;\n",
              "    }\n",
              "  </style>\n",
              "\n",
              "      <script>\n",
              "        const buttonEl =\n",
              "          document.querySelector('#df-77c5c19a-2f8c-4445-bd70-25a77af564c7 button.colab-df-convert');\n",
              "        buttonEl.style.display =\n",
              "          google.colab.kernel.accessAllowed ? 'block' : 'none';\n",
              "\n",
              "        async function convertToInteractive(key) {\n",
              "          const element = document.querySelector('#df-77c5c19a-2f8c-4445-bd70-25a77af564c7');\n",
              "          const dataTable =\n",
              "            await google.colab.kernel.invokeFunction('convertToInteractive',\n",
              "                                                     [key], {});\n",
              "          if (!dataTable) return;\n",
              "\n",
              "          const docLinkHtml = 'Like what you see? Visit the ' +\n",
              "            '<a target=\"_blank\" href=https://colab.research.google.com/notebooks/data_table.ipynb>data table notebook</a>'\n",
              "            + ' to learn more about interactive tables.';\n",
              "          element.innerHTML = '';\n",
              "          dataTable['output_type'] = 'display_data';\n",
              "          await google.colab.output.renderOutput(dataTable, element);\n",
              "          const docLink = document.createElement('div');\n",
              "          docLink.innerHTML = docLinkHtml;\n",
              "          element.appendChild(docLink);\n",
              "        }\n",
              "      </script>\n",
              "    </div>\n",
              "  </div>\n",
              "  "
            ]
          },
          "metadata": {},
          "execution_count": 5
        }
      ]
    },
    {
      "cell_type": "code",
      "source": [
        "df_Moderna_1A.head()"
      ],
      "metadata": {
        "colab": {
          "base_uri": "https://localhost:8080/",
          "height": 300
        },
        "id": "mKtefQ523vxv",
        "outputId": "a2311fed-fd25-48de-c81e-b9bd8457a085"
      },
      "execution_count": null,
      "outputs": [
        {
          "output_type": "execute_result",
          "data": {
            "text/plain": [
              "   Sex  Age  Height  Weight  A  AB  B  O  Smoking  Narcotics  ...  \\\n",
              "0    1   32   160.0    56.0  0   0  0  1        1          0  ...   \n",
              "1    1   34   178.0    76.0  0   0  0  1        0          0  ...   \n",
              "2    1   37   174.0    80.0  1   0  0  0        0          0  ...   \n",
              "3    0   24   170.0    73.0  0   0  0  1        0          0  ...   \n",
              "4    1   30   171.0    62.0  1   0  0  0        1          0  ...   \n",
              "\n",
              "   Dose1_Fatigue  Dose1_Headache  Dose1_Nausea  Dose1_Chills  \\\n",
              "0              0               0             0             0   \n",
              "1              0               0             0             0   \n",
              "2              0               0             0             0   \n",
              "3              1               1             0             0   \n",
              "4              1               1             1             0   \n",
              "\n",
              "   Dose1_Needle_Redness  Dose1_Joint_Pain  Dose1_Muscle_Pain  Dose1_Other  \\\n",
              "0                     0                 0                  0            0   \n",
              "1                     0                 1                  0            0   \n",
              "2                     0                 0                  0            0   \n",
              "3                     1                 0                  0            1   \n",
              "4                     0                 0                  0            0   \n",
              "\n",
              "   Dose1_Needle_Swelling        BMI  \n",
              "0                      0  21.875000  \n",
              "1                      1  23.986870  \n",
              "2                      1  26.423570  \n",
              "3                      1  25.259516  \n",
              "4                      0  21.203105  \n",
              "\n",
              "[5 rows x 59 columns]"
            ],
            "text/html": [
              "\n",
              "  <div id=\"df-72a85ea0-3e24-4cd4-bd86-a0b886bc6b62\">\n",
              "    <div class=\"colab-df-container\">\n",
              "      <div>\n",
              "<style scoped>\n",
              "    .dataframe tbody tr th:only-of-type {\n",
              "        vertical-align: middle;\n",
              "    }\n",
              "\n",
              "    .dataframe tbody tr th {\n",
              "        vertical-align: top;\n",
              "    }\n",
              "\n",
              "    .dataframe thead th {\n",
              "        text-align: right;\n",
              "    }\n",
              "</style>\n",
              "<table border=\"1\" class=\"dataframe\">\n",
              "  <thead>\n",
              "    <tr style=\"text-align: right;\">\n",
              "      <th></th>\n",
              "      <th>Sex</th>\n",
              "      <th>Age</th>\n",
              "      <th>Height</th>\n",
              "      <th>Weight</th>\n",
              "      <th>A</th>\n",
              "      <th>AB</th>\n",
              "      <th>B</th>\n",
              "      <th>O</th>\n",
              "      <th>Smoking</th>\n",
              "      <th>Narcotics</th>\n",
              "      <th>...</th>\n",
              "      <th>Dose1_Fatigue</th>\n",
              "      <th>Dose1_Headache</th>\n",
              "      <th>Dose1_Nausea</th>\n",
              "      <th>Dose1_Chills</th>\n",
              "      <th>Dose1_Needle_Redness</th>\n",
              "      <th>Dose1_Joint_Pain</th>\n",
              "      <th>Dose1_Muscle_Pain</th>\n",
              "      <th>Dose1_Other</th>\n",
              "      <th>Dose1_Needle_Swelling</th>\n",
              "      <th>BMI</th>\n",
              "    </tr>\n",
              "  </thead>\n",
              "  <tbody>\n",
              "    <tr>\n",
              "      <th>0</th>\n",
              "      <td>1</td>\n",
              "      <td>32</td>\n",
              "      <td>160.0</td>\n",
              "      <td>56.0</td>\n",
              "      <td>0</td>\n",
              "      <td>0</td>\n",
              "      <td>0</td>\n",
              "      <td>1</td>\n",
              "      <td>1</td>\n",
              "      <td>0</td>\n",
              "      <td>...</td>\n",
              "      <td>0</td>\n",
              "      <td>0</td>\n",
              "      <td>0</td>\n",
              "      <td>0</td>\n",
              "      <td>0</td>\n",
              "      <td>0</td>\n",
              "      <td>0</td>\n",
              "      <td>0</td>\n",
              "      <td>0</td>\n",
              "      <td>21.875000</td>\n",
              "    </tr>\n",
              "    <tr>\n",
              "      <th>1</th>\n",
              "      <td>1</td>\n",
              "      <td>34</td>\n",
              "      <td>178.0</td>\n",
              "      <td>76.0</td>\n",
              "      <td>0</td>\n",
              "      <td>0</td>\n",
              "      <td>0</td>\n",
              "      <td>1</td>\n",
              "      <td>0</td>\n",
              "      <td>0</td>\n",
              "      <td>...</td>\n",
              "      <td>0</td>\n",
              "      <td>0</td>\n",
              "      <td>0</td>\n",
              "      <td>0</td>\n",
              "      <td>0</td>\n",
              "      <td>1</td>\n",
              "      <td>0</td>\n",
              "      <td>0</td>\n",
              "      <td>1</td>\n",
              "      <td>23.986870</td>\n",
              "    </tr>\n",
              "    <tr>\n",
              "      <th>2</th>\n",
              "      <td>1</td>\n",
              "      <td>37</td>\n",
              "      <td>174.0</td>\n",
              "      <td>80.0</td>\n",
              "      <td>1</td>\n",
              "      <td>0</td>\n",
              "      <td>0</td>\n",
              "      <td>0</td>\n",
              "      <td>0</td>\n",
              "      <td>0</td>\n",
              "      <td>...</td>\n",
              "      <td>0</td>\n",
              "      <td>0</td>\n",
              "      <td>0</td>\n",
              "      <td>0</td>\n",
              "      <td>0</td>\n",
              "      <td>0</td>\n",
              "      <td>0</td>\n",
              "      <td>0</td>\n",
              "      <td>1</td>\n",
              "      <td>26.423570</td>\n",
              "    </tr>\n",
              "    <tr>\n",
              "      <th>3</th>\n",
              "      <td>0</td>\n",
              "      <td>24</td>\n",
              "      <td>170.0</td>\n",
              "      <td>73.0</td>\n",
              "      <td>0</td>\n",
              "      <td>0</td>\n",
              "      <td>0</td>\n",
              "      <td>1</td>\n",
              "      <td>0</td>\n",
              "      <td>0</td>\n",
              "      <td>...</td>\n",
              "      <td>1</td>\n",
              "      <td>1</td>\n",
              "      <td>0</td>\n",
              "      <td>0</td>\n",
              "      <td>1</td>\n",
              "      <td>0</td>\n",
              "      <td>0</td>\n",
              "      <td>1</td>\n",
              "      <td>1</td>\n",
              "      <td>25.259516</td>\n",
              "    </tr>\n",
              "    <tr>\n",
              "      <th>4</th>\n",
              "      <td>1</td>\n",
              "      <td>30</td>\n",
              "      <td>171.0</td>\n",
              "      <td>62.0</td>\n",
              "      <td>1</td>\n",
              "      <td>0</td>\n",
              "      <td>0</td>\n",
              "      <td>0</td>\n",
              "      <td>1</td>\n",
              "      <td>0</td>\n",
              "      <td>...</td>\n",
              "      <td>1</td>\n",
              "      <td>1</td>\n",
              "      <td>1</td>\n",
              "      <td>0</td>\n",
              "      <td>0</td>\n",
              "      <td>0</td>\n",
              "      <td>0</td>\n",
              "      <td>0</td>\n",
              "      <td>0</td>\n",
              "      <td>21.203105</td>\n",
              "    </tr>\n",
              "  </tbody>\n",
              "</table>\n",
              "<p>5 rows × 59 columns</p>\n",
              "</div>\n",
              "      <button class=\"colab-df-convert\" onclick=\"convertToInteractive('df-72a85ea0-3e24-4cd4-bd86-a0b886bc6b62')\"\n",
              "              title=\"Convert this dataframe to an interactive table.\"\n",
              "              style=\"display:none;\">\n",
              "        \n",
              "  <svg xmlns=\"http://www.w3.org/2000/svg\" height=\"24px\"viewBox=\"0 0 24 24\"\n",
              "       width=\"24px\">\n",
              "    <path d=\"M0 0h24v24H0V0z\" fill=\"none\"/>\n",
              "    <path d=\"M18.56 5.44l.94 2.06.94-2.06 2.06-.94-2.06-.94-.94-2.06-.94 2.06-2.06.94zm-11 1L8.5 8.5l.94-2.06 2.06-.94-2.06-.94L8.5 2.5l-.94 2.06-2.06.94zm10 10l.94 2.06.94-2.06 2.06-.94-2.06-.94-.94-2.06-.94 2.06-2.06.94z\"/><path d=\"M17.41 7.96l-1.37-1.37c-.4-.4-.92-.59-1.43-.59-.52 0-1.04.2-1.43.59L10.3 9.45l-7.72 7.72c-.78.78-.78 2.05 0 2.83L4 21.41c.39.39.9.59 1.41.59.51 0 1.02-.2 1.41-.59l7.78-7.78 2.81-2.81c.8-.78.8-2.07 0-2.86zM5.41 20L4 18.59l7.72-7.72 1.47 1.35L5.41 20z\"/>\n",
              "  </svg>\n",
              "      </button>\n",
              "      \n",
              "  <style>\n",
              "    .colab-df-container {\n",
              "      display:flex;\n",
              "      flex-wrap:wrap;\n",
              "      gap: 12px;\n",
              "    }\n",
              "\n",
              "    .colab-df-convert {\n",
              "      background-color: #E8F0FE;\n",
              "      border: none;\n",
              "      border-radius: 50%;\n",
              "      cursor: pointer;\n",
              "      display: none;\n",
              "      fill: #1967D2;\n",
              "      height: 32px;\n",
              "      padding: 0 0 0 0;\n",
              "      width: 32px;\n",
              "    }\n",
              "\n",
              "    .colab-df-convert:hover {\n",
              "      background-color: #E2EBFA;\n",
              "      box-shadow: 0px 1px 2px rgba(60, 64, 67, 0.3), 0px 1px 3px 1px rgba(60, 64, 67, 0.15);\n",
              "      fill: #174EA6;\n",
              "    }\n",
              "\n",
              "    [theme=dark] .colab-df-convert {\n",
              "      background-color: #3B4455;\n",
              "      fill: #D2E3FC;\n",
              "    }\n",
              "\n",
              "    [theme=dark] .colab-df-convert:hover {\n",
              "      background-color: #434B5C;\n",
              "      box-shadow: 0px 1px 3px 1px rgba(0, 0, 0, 0.15);\n",
              "      filter: drop-shadow(0px 1px 2px rgba(0, 0, 0, 0.3));\n",
              "      fill: #FFFFFF;\n",
              "    }\n",
              "  </style>\n",
              "\n",
              "      <script>\n",
              "        const buttonEl =\n",
              "          document.querySelector('#df-72a85ea0-3e24-4cd4-bd86-a0b886bc6b62 button.colab-df-convert');\n",
              "        buttonEl.style.display =\n",
              "          google.colab.kernel.accessAllowed ? 'block' : 'none';\n",
              "\n",
              "        async function convertToInteractive(key) {\n",
              "          const element = document.querySelector('#df-72a85ea0-3e24-4cd4-bd86-a0b886bc6b62');\n",
              "          const dataTable =\n",
              "            await google.colab.kernel.invokeFunction('convertToInteractive',\n",
              "                                                     [key], {});\n",
              "          if (!dataTable) return;\n",
              "\n",
              "          const docLinkHtml = 'Like what you see? Visit the ' +\n",
              "            '<a target=\"_blank\" href=https://colab.research.google.com/notebooks/data_table.ipynb>data table notebook</a>'\n",
              "            + ' to learn more about interactive tables.';\n",
              "          element.innerHTML = '';\n",
              "          dataTable['output_type'] = 'display_data';\n",
              "          await google.colab.output.renderOutput(dataTable, element);\n",
              "          const docLink = document.createElement('div');\n",
              "          docLink.innerHTML = docLinkHtml;\n",
              "          element.appendChild(docLink);\n",
              "        }\n",
              "      </script>\n",
              "    </div>\n",
              "  </div>\n",
              "  "
            ]
          },
          "metadata": {},
          "execution_count": 6
        }
      ]
    },
    {
      "cell_type": "markdown",
      "source": [
        "# Data Cleaning\n",
        "1. Remove the BMI feature since that's repeat of the weight and height input feature"
      ],
      "metadata": {
        "id": "8bx3OiJLEFf5"
      }
    },
    {
      "cell_type": "code",
      "source": [
        "df_AstraZena_1 = df_AstraZena_1.drop('BMI', axis=1)\n",
        "df_Covaxin_1 = df_Covaxin_1.drop('BMI', axis=1)\n",
        "df_Moderna_1A = df_Moderna_1A.drop('BMI', axis=1)\n",
        "df_Moderna_1B = df_Moderna_1B.drop('BMI', axis=1)\n",
        "df_Pfizer_1 = df_Pfizer_1.drop('BMI', axis=1)\n",
        "df_Sino_1 = df_Sino_1.drop('BMI', axis=1)\n",
        "df_Sputnik_1 = df_Sputnik_1.drop('BMI', axis=1)"
      ],
      "metadata": {
        "id": "K9zVhBN2DL51"
      },
      "execution_count": null,
      "outputs": []
    },
    {
      "cell_type": "code",
      "source": [
        "df_AstraZena_1.head()"
      ],
      "metadata": {
        "colab": {
          "base_uri": "https://localhost:8080/",
          "height": 300
        },
        "id": "WZ7YmIpfE5NE",
        "outputId": "be64c53f-8a8c-4ae8-b407-bd11b1f25bb2"
      },
      "execution_count": null,
      "outputs": [
        {
          "output_type": "execute_result",
          "data": {
            "text/plain": [
              "   Sex   Age  Height  Weight  A  AB  B  O  Smoking  Narcotics  ...  \\\n",
              "0    0  33.0   164.0    56.0  0   0  0  1        0          0  ...   \n",
              "1    0  33.0   164.0    56.0  0   0  0  1        0          0  ...   \n",
              "2    0  41.0   156.0    70.0  1   0  0  0        1          0  ...   \n",
              "3    0  62.0   157.0    65.0  0   1  0  0        1          0  ...   \n",
              "4    0  25.0   163.0    73.0  0   0  1  0        0          0  ...   \n",
              "\n",
              "   Dose1_Needle_Pain  Dose1_Fatigue  Dose1_Headache  Dose1_Nausea  \\\n",
              "0                  1              0               1             0   \n",
              "1                  1              0               1             0   \n",
              "2                  1              1               1             0   \n",
              "3                  0              1               0             0   \n",
              "4                  1              1               1             0   \n",
              "\n",
              "   Dose1_Chills  Dose1_Needle_Redness  Dose1_Joint_Pain  Dose1_Muscle_Pain  \\\n",
              "0             0                     0                 0                  0   \n",
              "1             0                     0                 0                  0   \n",
              "2             0                     0                 1                  1   \n",
              "3             0                     0                 0                  0   \n",
              "4             1                     0                 1                  1   \n",
              "\n",
              "   Dose1_Other  Dose1_Needle_Swelling  \n",
              "0            0                      0  \n",
              "1            0                      0  \n",
              "2            0                      0  \n",
              "3            0                      0  \n",
              "4            0                      0  \n",
              "\n",
              "[5 rows x 58 columns]"
            ],
            "text/html": [
              "\n",
              "  <div id=\"df-5a7e7efc-9f92-4dda-8a08-1ee8569b6a54\">\n",
              "    <div class=\"colab-df-container\">\n",
              "      <div>\n",
              "<style scoped>\n",
              "    .dataframe tbody tr th:only-of-type {\n",
              "        vertical-align: middle;\n",
              "    }\n",
              "\n",
              "    .dataframe tbody tr th {\n",
              "        vertical-align: top;\n",
              "    }\n",
              "\n",
              "    .dataframe thead th {\n",
              "        text-align: right;\n",
              "    }\n",
              "</style>\n",
              "<table border=\"1\" class=\"dataframe\">\n",
              "  <thead>\n",
              "    <tr style=\"text-align: right;\">\n",
              "      <th></th>\n",
              "      <th>Sex</th>\n",
              "      <th>Age</th>\n",
              "      <th>Height</th>\n",
              "      <th>Weight</th>\n",
              "      <th>A</th>\n",
              "      <th>AB</th>\n",
              "      <th>B</th>\n",
              "      <th>O</th>\n",
              "      <th>Smoking</th>\n",
              "      <th>Narcotics</th>\n",
              "      <th>...</th>\n",
              "      <th>Dose1_Needle_Pain</th>\n",
              "      <th>Dose1_Fatigue</th>\n",
              "      <th>Dose1_Headache</th>\n",
              "      <th>Dose1_Nausea</th>\n",
              "      <th>Dose1_Chills</th>\n",
              "      <th>Dose1_Needle_Redness</th>\n",
              "      <th>Dose1_Joint_Pain</th>\n",
              "      <th>Dose1_Muscle_Pain</th>\n",
              "      <th>Dose1_Other</th>\n",
              "      <th>Dose1_Needle_Swelling</th>\n",
              "    </tr>\n",
              "  </thead>\n",
              "  <tbody>\n",
              "    <tr>\n",
              "      <th>0</th>\n",
              "      <td>0</td>\n",
              "      <td>33.0</td>\n",
              "      <td>164.0</td>\n",
              "      <td>56.0</td>\n",
              "      <td>0</td>\n",
              "      <td>0</td>\n",
              "      <td>0</td>\n",
              "      <td>1</td>\n",
              "      <td>0</td>\n",
              "      <td>0</td>\n",
              "      <td>...</td>\n",
              "      <td>1</td>\n",
              "      <td>0</td>\n",
              "      <td>1</td>\n",
              "      <td>0</td>\n",
              "      <td>0</td>\n",
              "      <td>0</td>\n",
              "      <td>0</td>\n",
              "      <td>0</td>\n",
              "      <td>0</td>\n",
              "      <td>0</td>\n",
              "    </tr>\n",
              "    <tr>\n",
              "      <th>1</th>\n",
              "      <td>0</td>\n",
              "      <td>33.0</td>\n",
              "      <td>164.0</td>\n",
              "      <td>56.0</td>\n",
              "      <td>0</td>\n",
              "      <td>0</td>\n",
              "      <td>0</td>\n",
              "      <td>1</td>\n",
              "      <td>0</td>\n",
              "      <td>0</td>\n",
              "      <td>...</td>\n",
              "      <td>1</td>\n",
              "      <td>0</td>\n",
              "      <td>1</td>\n",
              "      <td>0</td>\n",
              "      <td>0</td>\n",
              "      <td>0</td>\n",
              "      <td>0</td>\n",
              "      <td>0</td>\n",
              "      <td>0</td>\n",
              "      <td>0</td>\n",
              "    </tr>\n",
              "    <tr>\n",
              "      <th>2</th>\n",
              "      <td>0</td>\n",
              "      <td>41.0</td>\n",
              "      <td>156.0</td>\n",
              "      <td>70.0</td>\n",
              "      <td>1</td>\n",
              "      <td>0</td>\n",
              "      <td>0</td>\n",
              "      <td>0</td>\n",
              "      <td>1</td>\n",
              "      <td>0</td>\n",
              "      <td>...</td>\n",
              "      <td>1</td>\n",
              "      <td>1</td>\n",
              "      <td>1</td>\n",
              "      <td>0</td>\n",
              "      <td>0</td>\n",
              "      <td>0</td>\n",
              "      <td>1</td>\n",
              "      <td>1</td>\n",
              "      <td>0</td>\n",
              "      <td>0</td>\n",
              "    </tr>\n",
              "    <tr>\n",
              "      <th>3</th>\n",
              "      <td>0</td>\n",
              "      <td>62.0</td>\n",
              "      <td>157.0</td>\n",
              "      <td>65.0</td>\n",
              "      <td>0</td>\n",
              "      <td>1</td>\n",
              "      <td>0</td>\n",
              "      <td>0</td>\n",
              "      <td>1</td>\n",
              "      <td>0</td>\n",
              "      <td>...</td>\n",
              "      <td>0</td>\n",
              "      <td>1</td>\n",
              "      <td>0</td>\n",
              "      <td>0</td>\n",
              "      <td>0</td>\n",
              "      <td>0</td>\n",
              "      <td>0</td>\n",
              "      <td>0</td>\n",
              "      <td>0</td>\n",
              "      <td>0</td>\n",
              "    </tr>\n",
              "    <tr>\n",
              "      <th>4</th>\n",
              "      <td>0</td>\n",
              "      <td>25.0</td>\n",
              "      <td>163.0</td>\n",
              "      <td>73.0</td>\n",
              "      <td>0</td>\n",
              "      <td>0</td>\n",
              "      <td>1</td>\n",
              "      <td>0</td>\n",
              "      <td>0</td>\n",
              "      <td>0</td>\n",
              "      <td>...</td>\n",
              "      <td>1</td>\n",
              "      <td>1</td>\n",
              "      <td>1</td>\n",
              "      <td>0</td>\n",
              "      <td>1</td>\n",
              "      <td>0</td>\n",
              "      <td>1</td>\n",
              "      <td>1</td>\n",
              "      <td>0</td>\n",
              "      <td>0</td>\n",
              "    </tr>\n",
              "  </tbody>\n",
              "</table>\n",
              "<p>5 rows × 58 columns</p>\n",
              "</div>\n",
              "      <button class=\"colab-df-convert\" onclick=\"convertToInteractive('df-5a7e7efc-9f92-4dda-8a08-1ee8569b6a54')\"\n",
              "              title=\"Convert this dataframe to an interactive table.\"\n",
              "              style=\"display:none;\">\n",
              "        \n",
              "  <svg xmlns=\"http://www.w3.org/2000/svg\" height=\"24px\"viewBox=\"0 0 24 24\"\n",
              "       width=\"24px\">\n",
              "    <path d=\"M0 0h24v24H0V0z\" fill=\"none\"/>\n",
              "    <path d=\"M18.56 5.44l.94 2.06.94-2.06 2.06-.94-2.06-.94-.94-2.06-.94 2.06-2.06.94zm-11 1L8.5 8.5l.94-2.06 2.06-.94-2.06-.94L8.5 2.5l-.94 2.06-2.06.94zm10 10l.94 2.06.94-2.06 2.06-.94-2.06-.94-.94-2.06-.94 2.06-2.06.94z\"/><path d=\"M17.41 7.96l-1.37-1.37c-.4-.4-.92-.59-1.43-.59-.52 0-1.04.2-1.43.59L10.3 9.45l-7.72 7.72c-.78.78-.78 2.05 0 2.83L4 21.41c.39.39.9.59 1.41.59.51 0 1.02-.2 1.41-.59l7.78-7.78 2.81-2.81c.8-.78.8-2.07 0-2.86zM5.41 20L4 18.59l7.72-7.72 1.47 1.35L5.41 20z\"/>\n",
              "  </svg>\n",
              "      </button>\n",
              "      \n",
              "  <style>\n",
              "    .colab-df-container {\n",
              "      display:flex;\n",
              "      flex-wrap:wrap;\n",
              "      gap: 12px;\n",
              "    }\n",
              "\n",
              "    .colab-df-convert {\n",
              "      background-color: #E8F0FE;\n",
              "      border: none;\n",
              "      border-radius: 50%;\n",
              "      cursor: pointer;\n",
              "      display: none;\n",
              "      fill: #1967D2;\n",
              "      height: 32px;\n",
              "      padding: 0 0 0 0;\n",
              "      width: 32px;\n",
              "    }\n",
              "\n",
              "    .colab-df-convert:hover {\n",
              "      background-color: #E2EBFA;\n",
              "      box-shadow: 0px 1px 2px rgba(60, 64, 67, 0.3), 0px 1px 3px 1px rgba(60, 64, 67, 0.15);\n",
              "      fill: #174EA6;\n",
              "    }\n",
              "\n",
              "    [theme=dark] .colab-df-convert {\n",
              "      background-color: #3B4455;\n",
              "      fill: #D2E3FC;\n",
              "    }\n",
              "\n",
              "    [theme=dark] .colab-df-convert:hover {\n",
              "      background-color: #434B5C;\n",
              "      box-shadow: 0px 1px 3px 1px rgba(0, 0, 0, 0.15);\n",
              "      filter: drop-shadow(0px 1px 2px rgba(0, 0, 0, 0.3));\n",
              "      fill: #FFFFFF;\n",
              "    }\n",
              "  </style>\n",
              "\n",
              "      <script>\n",
              "        const buttonEl =\n",
              "          document.querySelector('#df-5a7e7efc-9f92-4dda-8a08-1ee8569b6a54 button.colab-df-convert');\n",
              "        buttonEl.style.display =\n",
              "          google.colab.kernel.accessAllowed ? 'block' : 'none';\n",
              "\n",
              "        async function convertToInteractive(key) {\n",
              "          const element = document.querySelector('#df-5a7e7efc-9f92-4dda-8a08-1ee8569b6a54');\n",
              "          const dataTable =\n",
              "            await google.colab.kernel.invokeFunction('convertToInteractive',\n",
              "                                                     [key], {});\n",
              "          if (!dataTable) return;\n",
              "\n",
              "          const docLinkHtml = 'Like what you see? Visit the ' +\n",
              "            '<a target=\"_blank\" href=https://colab.research.google.com/notebooks/data_table.ipynb>data table notebook</a>'\n",
              "            + ' to learn more about interactive tables.';\n",
              "          element.innerHTML = '';\n",
              "          dataTable['output_type'] = 'display_data';\n",
              "          await google.colab.output.renderOutput(dataTable, element);\n",
              "          const docLink = document.createElement('div');\n",
              "          docLink.innerHTML = docLinkHtml;\n",
              "          element.appendChild(docLink);\n",
              "        }\n",
              "      </script>\n",
              "    </div>\n",
              "  </div>\n",
              "  "
            ]
          },
          "metadata": {},
          "execution_count": 8
        }
      ]
    },
    {
      "cell_type": "markdown",
      "source": [
        "2. Remove the \"other\" side effect (keep the 8 side effects: fever, fatigue, headache, nausea, chills, joint pain, muscle pain, and injection site reactions)"
      ],
      "metadata": {
        "id": "g2US2mIGHknP"
      }
    },
    {
      "cell_type": "code",
      "source": [
        "df_AstraZena_1 = df_AstraZena_1.drop('Dose1_Other', axis=1)\n",
        "df_Covaxin_1 = df_Covaxin_1.drop('Dose1_Other', axis=1)\n",
        "df_Moderna_1A = df_Moderna_1A.drop('Dose1_Other', axis=1)\n",
        "df_Moderna_1B = df_Moderna_1B.drop('Dose1_Other', axis=1)\n",
        "df_Pfizer_1 = df_Pfizer_1.drop('Dose1_Other', axis=1)\n",
        "df_Sino_1 = df_Sino_1.drop('Dose1_Other', axis=1)\n",
        "df_Sputnik_1 = df_Sputnik_1.drop('Dose1_Other', axis=1)"
      ],
      "metadata": {
        "id": "r7QweuHkFKth"
      },
      "execution_count": null,
      "outputs": []
    },
    {
      "cell_type": "markdown",
      "source": [
        "3. We have multiple sub-categories for injection site reactions (needle pain, needle redness, needle swelling) - we will just combine them into ONE category, i.e., if there's 1 in at least one of the sub-categories, then it's a 1 for the injection site reactions"
      ],
      "metadata": {
        "id": "POWwwtxoIRl5"
      }
    },
    {
      "cell_type": "markdown",
      "source": [
        "3a. We first combine the three cols"
      ],
      "metadata": {
        "id": "eV6tV-zxbiv0"
      }
    },
    {
      "cell_type": "code",
      "source": [
        "df_AstraZena_1['Dose1_Needle'] = df_AstraZena_1['Dose1_Needle_Pain'] + df_AstraZena_1['Dose1_Needle_Redness'] + df_AstraZena_1['Dose1_Needle_Swelling']"
      ],
      "metadata": {
        "id": "FXgnGeOqH5xT"
      },
      "execution_count": null,
      "outputs": []
    },
    {
      "cell_type": "code",
      "source": [
        "\n",
        "df_AstraZena_1.head()"
      ],
      "metadata": {
        "colab": {
          "base_uri": "https://localhost:8080/",
          "height": 300
        },
        "id": "3Mkslqf2aqPx",
        "outputId": "7f949546-30e9-485e-ecab-589f048b9933"
      },
      "execution_count": null,
      "outputs": [
        {
          "output_type": "execute_result",
          "data": {
            "text/plain": [
              "   Sex   Age  Height  Weight  A  AB  B  O  Smoking  Narcotics  ...  \\\n",
              "0    0  33.0   164.0    56.0  0   0  0  1        0          0  ...   \n",
              "1    0  33.0   164.0    56.0  0   0  0  1        0          0  ...   \n",
              "2    0  41.0   156.0    70.0  1   0  0  0        1          0  ...   \n",
              "3    0  62.0   157.0    65.0  0   1  0  0        1          0  ...   \n",
              "4    0  25.0   163.0    73.0  0   0  1  0        0          0  ...   \n",
              "\n",
              "   Dose1_Needle_Pain  Dose1_Fatigue  Dose1_Headache  Dose1_Nausea  \\\n",
              "0                  1              0               1             0   \n",
              "1                  1              0               1             0   \n",
              "2                  1              1               1             0   \n",
              "3                  0              1               0             0   \n",
              "4                  1              1               1             0   \n",
              "\n",
              "   Dose1_Chills  Dose1_Needle_Redness  Dose1_Joint_Pain  Dose1_Muscle_Pain  \\\n",
              "0             0                     0                 0                  0   \n",
              "1             0                     0                 0                  0   \n",
              "2             0                     0                 1                  1   \n",
              "3             0                     0                 0                  0   \n",
              "4             1                     0                 1                  1   \n",
              "\n",
              "   Dose1_Needle_Swelling  Dose1_Needle  \n",
              "0                      0             1  \n",
              "1                      0             1  \n",
              "2                      0             1  \n",
              "3                      0             0  \n",
              "4                      0             1  \n",
              "\n",
              "[5 rows x 58 columns]"
            ],
            "text/html": [
              "\n",
              "  <div id=\"df-76bcbe97-0cd5-4226-b09d-866d45d556f0\">\n",
              "    <div class=\"colab-df-container\">\n",
              "      <div>\n",
              "<style scoped>\n",
              "    .dataframe tbody tr th:only-of-type {\n",
              "        vertical-align: middle;\n",
              "    }\n",
              "\n",
              "    .dataframe tbody tr th {\n",
              "        vertical-align: top;\n",
              "    }\n",
              "\n",
              "    .dataframe thead th {\n",
              "        text-align: right;\n",
              "    }\n",
              "</style>\n",
              "<table border=\"1\" class=\"dataframe\">\n",
              "  <thead>\n",
              "    <tr style=\"text-align: right;\">\n",
              "      <th></th>\n",
              "      <th>Sex</th>\n",
              "      <th>Age</th>\n",
              "      <th>Height</th>\n",
              "      <th>Weight</th>\n",
              "      <th>A</th>\n",
              "      <th>AB</th>\n",
              "      <th>B</th>\n",
              "      <th>O</th>\n",
              "      <th>Smoking</th>\n",
              "      <th>Narcotics</th>\n",
              "      <th>...</th>\n",
              "      <th>Dose1_Needle_Pain</th>\n",
              "      <th>Dose1_Fatigue</th>\n",
              "      <th>Dose1_Headache</th>\n",
              "      <th>Dose1_Nausea</th>\n",
              "      <th>Dose1_Chills</th>\n",
              "      <th>Dose1_Needle_Redness</th>\n",
              "      <th>Dose1_Joint_Pain</th>\n",
              "      <th>Dose1_Muscle_Pain</th>\n",
              "      <th>Dose1_Needle_Swelling</th>\n",
              "      <th>Dose1_Needle</th>\n",
              "    </tr>\n",
              "  </thead>\n",
              "  <tbody>\n",
              "    <tr>\n",
              "      <th>0</th>\n",
              "      <td>0</td>\n",
              "      <td>33.0</td>\n",
              "      <td>164.0</td>\n",
              "      <td>56.0</td>\n",
              "      <td>0</td>\n",
              "      <td>0</td>\n",
              "      <td>0</td>\n",
              "      <td>1</td>\n",
              "      <td>0</td>\n",
              "      <td>0</td>\n",
              "      <td>...</td>\n",
              "      <td>1</td>\n",
              "      <td>0</td>\n",
              "      <td>1</td>\n",
              "      <td>0</td>\n",
              "      <td>0</td>\n",
              "      <td>0</td>\n",
              "      <td>0</td>\n",
              "      <td>0</td>\n",
              "      <td>0</td>\n",
              "      <td>1</td>\n",
              "    </tr>\n",
              "    <tr>\n",
              "      <th>1</th>\n",
              "      <td>0</td>\n",
              "      <td>33.0</td>\n",
              "      <td>164.0</td>\n",
              "      <td>56.0</td>\n",
              "      <td>0</td>\n",
              "      <td>0</td>\n",
              "      <td>0</td>\n",
              "      <td>1</td>\n",
              "      <td>0</td>\n",
              "      <td>0</td>\n",
              "      <td>...</td>\n",
              "      <td>1</td>\n",
              "      <td>0</td>\n",
              "      <td>1</td>\n",
              "      <td>0</td>\n",
              "      <td>0</td>\n",
              "      <td>0</td>\n",
              "      <td>0</td>\n",
              "      <td>0</td>\n",
              "      <td>0</td>\n",
              "      <td>1</td>\n",
              "    </tr>\n",
              "    <tr>\n",
              "      <th>2</th>\n",
              "      <td>0</td>\n",
              "      <td>41.0</td>\n",
              "      <td>156.0</td>\n",
              "      <td>70.0</td>\n",
              "      <td>1</td>\n",
              "      <td>0</td>\n",
              "      <td>0</td>\n",
              "      <td>0</td>\n",
              "      <td>1</td>\n",
              "      <td>0</td>\n",
              "      <td>...</td>\n",
              "      <td>1</td>\n",
              "      <td>1</td>\n",
              "      <td>1</td>\n",
              "      <td>0</td>\n",
              "      <td>0</td>\n",
              "      <td>0</td>\n",
              "      <td>1</td>\n",
              "      <td>1</td>\n",
              "      <td>0</td>\n",
              "      <td>1</td>\n",
              "    </tr>\n",
              "    <tr>\n",
              "      <th>3</th>\n",
              "      <td>0</td>\n",
              "      <td>62.0</td>\n",
              "      <td>157.0</td>\n",
              "      <td>65.0</td>\n",
              "      <td>0</td>\n",
              "      <td>1</td>\n",
              "      <td>0</td>\n",
              "      <td>0</td>\n",
              "      <td>1</td>\n",
              "      <td>0</td>\n",
              "      <td>...</td>\n",
              "      <td>0</td>\n",
              "      <td>1</td>\n",
              "      <td>0</td>\n",
              "      <td>0</td>\n",
              "      <td>0</td>\n",
              "      <td>0</td>\n",
              "      <td>0</td>\n",
              "      <td>0</td>\n",
              "      <td>0</td>\n",
              "      <td>0</td>\n",
              "    </tr>\n",
              "    <tr>\n",
              "      <th>4</th>\n",
              "      <td>0</td>\n",
              "      <td>25.0</td>\n",
              "      <td>163.0</td>\n",
              "      <td>73.0</td>\n",
              "      <td>0</td>\n",
              "      <td>0</td>\n",
              "      <td>1</td>\n",
              "      <td>0</td>\n",
              "      <td>0</td>\n",
              "      <td>0</td>\n",
              "      <td>...</td>\n",
              "      <td>1</td>\n",
              "      <td>1</td>\n",
              "      <td>1</td>\n",
              "      <td>0</td>\n",
              "      <td>1</td>\n",
              "      <td>0</td>\n",
              "      <td>1</td>\n",
              "      <td>1</td>\n",
              "      <td>0</td>\n",
              "      <td>1</td>\n",
              "    </tr>\n",
              "  </tbody>\n",
              "</table>\n",
              "<p>5 rows × 58 columns</p>\n",
              "</div>\n",
              "      <button class=\"colab-df-convert\" onclick=\"convertToInteractive('df-76bcbe97-0cd5-4226-b09d-866d45d556f0')\"\n",
              "              title=\"Convert this dataframe to an interactive table.\"\n",
              "              style=\"display:none;\">\n",
              "        \n",
              "  <svg xmlns=\"http://www.w3.org/2000/svg\" height=\"24px\"viewBox=\"0 0 24 24\"\n",
              "       width=\"24px\">\n",
              "    <path d=\"M0 0h24v24H0V0z\" fill=\"none\"/>\n",
              "    <path d=\"M18.56 5.44l.94 2.06.94-2.06 2.06-.94-2.06-.94-.94-2.06-.94 2.06-2.06.94zm-11 1L8.5 8.5l.94-2.06 2.06-.94-2.06-.94L8.5 2.5l-.94 2.06-2.06.94zm10 10l.94 2.06.94-2.06 2.06-.94-2.06-.94-.94-2.06-.94 2.06-2.06.94z\"/><path d=\"M17.41 7.96l-1.37-1.37c-.4-.4-.92-.59-1.43-.59-.52 0-1.04.2-1.43.59L10.3 9.45l-7.72 7.72c-.78.78-.78 2.05 0 2.83L4 21.41c.39.39.9.59 1.41.59.51 0 1.02-.2 1.41-.59l7.78-7.78 2.81-2.81c.8-.78.8-2.07 0-2.86zM5.41 20L4 18.59l7.72-7.72 1.47 1.35L5.41 20z\"/>\n",
              "  </svg>\n",
              "      </button>\n",
              "      \n",
              "  <style>\n",
              "    .colab-df-container {\n",
              "      display:flex;\n",
              "      flex-wrap:wrap;\n",
              "      gap: 12px;\n",
              "    }\n",
              "\n",
              "    .colab-df-convert {\n",
              "      background-color: #E8F0FE;\n",
              "      border: none;\n",
              "      border-radius: 50%;\n",
              "      cursor: pointer;\n",
              "      display: none;\n",
              "      fill: #1967D2;\n",
              "      height: 32px;\n",
              "      padding: 0 0 0 0;\n",
              "      width: 32px;\n",
              "    }\n",
              "\n",
              "    .colab-df-convert:hover {\n",
              "      background-color: #E2EBFA;\n",
              "      box-shadow: 0px 1px 2px rgba(60, 64, 67, 0.3), 0px 1px 3px 1px rgba(60, 64, 67, 0.15);\n",
              "      fill: #174EA6;\n",
              "    }\n",
              "\n",
              "    [theme=dark] .colab-df-convert {\n",
              "      background-color: #3B4455;\n",
              "      fill: #D2E3FC;\n",
              "    }\n",
              "\n",
              "    [theme=dark] .colab-df-convert:hover {\n",
              "      background-color: #434B5C;\n",
              "      box-shadow: 0px 1px 3px 1px rgba(0, 0, 0, 0.15);\n",
              "      filter: drop-shadow(0px 1px 2px rgba(0, 0, 0, 0.3));\n",
              "      fill: #FFFFFF;\n",
              "    }\n",
              "  </style>\n",
              "\n",
              "      <script>\n",
              "        const buttonEl =\n",
              "          document.querySelector('#df-76bcbe97-0cd5-4226-b09d-866d45d556f0 button.colab-df-convert');\n",
              "        buttonEl.style.display =\n",
              "          google.colab.kernel.accessAllowed ? 'block' : 'none';\n",
              "\n",
              "        async function convertToInteractive(key) {\n",
              "          const element = document.querySelector('#df-76bcbe97-0cd5-4226-b09d-866d45d556f0');\n",
              "          const dataTable =\n",
              "            await google.colab.kernel.invokeFunction('convertToInteractive',\n",
              "                                                     [key], {});\n",
              "          if (!dataTable) return;\n",
              "\n",
              "          const docLinkHtml = 'Like what you see? Visit the ' +\n",
              "            '<a target=\"_blank\" href=https://colab.research.google.com/notebooks/data_table.ipynb>data table notebook</a>'\n",
              "            + ' to learn more about interactive tables.';\n",
              "          element.innerHTML = '';\n",
              "          dataTable['output_type'] = 'display_data';\n",
              "          await google.colab.output.renderOutput(dataTable, element);\n",
              "          const docLink = document.createElement('div');\n",
              "          docLink.innerHTML = docLinkHtml;\n",
              "          element.appendChild(docLink);\n",
              "        }\n",
              "      </script>\n",
              "    </div>\n",
              "  </div>\n",
              "  "
            ]
          },
          "metadata": {},
          "execution_count": 11
        }
      ]
    },
    {
      "cell_type": "code",
      "source": [
        "print(df_AstraZena_1['Dose1_Needle'].min())\n",
        "print(df_AstraZena_1['Dose1_Needle'].max())"
      ],
      "metadata": {
        "colab": {
          "base_uri": "https://localhost:8080/"
        },
        "id": "8K9ZGI3VaunX",
        "outputId": "199e6488-0ea1-444c-87f5-8977d763d34a"
      },
      "execution_count": null,
      "outputs": [
        {
          "output_type": "stream",
          "name": "stdout",
          "text": [
            "0\n",
            "3\n"
          ]
        }
      ]
    },
    {
      "cell_type": "code",
      "source": [
        "df_Covaxin_1['Dose1_Needle'] = df_Covaxin_1['Dose1_Needle_Pain'] + df_Covaxin_1['Dose1_Needle_Redness'] + df_Covaxin_1['Dose1_Needle_Swelling']\n",
        "df_Moderna_1A['Dose1_Needle'] = df_Moderna_1A['Dose1_Needle_Pain'] + df_Moderna_1A['Dose1_Needle_Redness'] + df_Moderna_1A['Dose1_Needle_Swelling']\n",
        "df_Moderna_1B['Dose1_Needle'] = df_Moderna_1B['Dose1_Needle_Pain'] + df_Moderna_1B['Dose1_Needle_Redness'] + df_Moderna_1B['Dose1_Needle_Swelling']\n",
        "df_Pfizer_1['Dose1_Needle'] = df_Pfizer_1['Dose1_Needle_Pain'] + df_Pfizer_1['Dose1_Needle_Redness'] + df_Pfizer_1['Dose1_Needle_Swelling']\n",
        "df_Sino_1['Dose1_Needle'] = df_Sino_1['Dose1_Needle_Pain'] + df_Sino_1['Dose1_Needle_Redness'] + df_Sino_1['Dose1_Needle_Swelling']\n",
        "df_Sputnik_1['Dose1_Needle'] = df_Sputnik_1['Dose1_Needle_Pain'] + df_Sputnik_1['Dose1_Needle_Redness'] + df_Sputnik_1['Dose1_Needle_Swelling']"
      ],
      "metadata": {
        "id": "Z26xbb-Ngidc"
      },
      "execution_count": null,
      "outputs": []
    },
    {
      "cell_type": "markdown",
      "source": [
        "3b. Delete all other needle sub-category cols, and if the column value is > 0 then it means there was needle problem"
      ],
      "metadata": {
        "id": "lmc605UlcLZ4"
      }
    },
    {
      "cell_type": "code",
      "source": [
        "df_AstraZena_1 = df_AstraZena_1.drop('Dose1_Needle_Pain', axis=1)\n",
        "df_Covaxin_1 = df_Covaxin_1.drop('Dose1_Needle_Pain', axis=1)\n",
        "df_Moderna_1A = df_Moderna_1A.drop('Dose1_Needle_Pain', axis=1)\n",
        "df_Moderna_1B = df_Moderna_1B.drop('Dose1_Needle_Pain', axis=1)\n",
        "df_Pfizer_1 = df_Pfizer_1.drop('Dose1_Needle_Pain', axis=1)\n",
        "df_Sino_1 = df_Sino_1.drop('Dose1_Needle_Pain', axis=1)\n",
        "df_Sputnik_1 = df_Sputnik_1.drop('Dose1_Needle_Pain', axis=1)"
      ],
      "metadata": {
        "id": "9GKIVXkxbnM8"
      },
      "execution_count": null,
      "outputs": []
    },
    {
      "cell_type": "code",
      "source": [
        "df_AstraZena_1 = df_AstraZena_1.drop('Dose1_Needle_Redness', axis=1)\n",
        "df_Covaxin_1 = df_Covaxin_1.drop('Dose1_Needle_Redness', axis=1)\n",
        "df_Moderna_1A = df_Moderna_1A.drop('Dose1_Needle_Redness', axis=1)\n",
        "df_Moderna_1B = df_Moderna_1B.drop('Dose1_Needle_Redness', axis=1)\n",
        "df_Pfizer_1 = df_Pfizer_1.drop('Dose1_Needle_Redness', axis=1)\n",
        "df_Sino_1 = df_Sino_1.drop('Dose1_Needle_Redness', axis=1)\n",
        "df_Sputnik_1 = df_Sputnik_1.drop('Dose1_Needle_Redness', axis=1)"
      ],
      "metadata": {
        "id": "W1aa7Edhbb66"
      },
      "execution_count": null,
      "outputs": []
    },
    {
      "cell_type": "code",
      "source": [
        "df_AstraZena_1 = df_AstraZena_1.drop('Dose1_Needle_Swelling', axis=1)\n",
        "df_Covaxin_1 = df_Covaxin_1.drop('Dose1_Needle_Swelling', axis=1)\n",
        "df_Moderna_1A = df_Moderna_1A.drop('Dose1_Needle_Swelling', axis=1)\n",
        "df_Moderna_1B = df_Moderna_1B.drop('Dose1_Needle_Swelling', axis=1)\n",
        "df_Pfizer_1 = df_Pfizer_1.drop('Dose1_Needle_Swelling', axis=1)\n",
        "df_Sino_1 = df_Sino_1.drop('Dose1_Needle_Swelling', axis=1)\n",
        "df_Sputnik_1 = df_Sputnik_1.drop('Dose1_Needle_Swelling', axis=1)"
      ],
      "metadata": {
        "id": "B3rk4-tWdBk-"
      },
      "execution_count": null,
      "outputs": []
    },
    {
      "cell_type": "code",
      "source": [
        "df_AstraZena_1.head()"
      ],
      "metadata": {
        "colab": {
          "base_uri": "https://localhost:8080/",
          "height": 300
        },
        "id": "_x32klRQdGjO",
        "outputId": "ec9aeb35-815f-45f6-d24f-df63b1ac3b2f"
      },
      "execution_count": null,
      "outputs": [
        {
          "output_type": "execute_result",
          "data": {
            "text/plain": [
              "   Sex   Age  Height  Weight  A  AB  B  O  Smoking  Narcotics  ...  \\\n",
              "0    0  33.0   164.0    56.0  0   0  0  1        0          0  ...   \n",
              "1    0  33.0   164.0    56.0  0   0  0  1        0          0  ...   \n",
              "2    0  41.0   156.0    70.0  1   0  0  0        1          0  ...   \n",
              "3    0  62.0   157.0    65.0  0   1  0  0        1          0  ...   \n",
              "4    0  25.0   163.0    73.0  0   0  1  0        0          0  ...   \n",
              "\n",
              "   Covid_Symptom_11  Covid_Severity  Dose1_Fever  Dose1_Fatigue  \\\n",
              "0               0.0               0            0              0   \n",
              "1               0.0               0            0              0   \n",
              "2               0.0               0            0              1   \n",
              "3               0.0               0            0              1   \n",
              "4               0.0               0            1              1   \n",
              "\n",
              "   Dose1_Headache  Dose1_Nausea  Dose1_Chills  Dose1_Joint_Pain  \\\n",
              "0               1             0             0                 0   \n",
              "1               1             0             0                 0   \n",
              "2               1             0             0                 1   \n",
              "3               0             0             0                 0   \n",
              "4               1             0             1                 1   \n",
              "\n",
              "   Dose1_Muscle_Pain  Dose1_Needle  \n",
              "0                  0             1  \n",
              "1                  0             1  \n",
              "2                  1             1  \n",
              "3                  0             0  \n",
              "4                  1             1  \n",
              "\n",
              "[5 rows x 55 columns]"
            ],
            "text/html": [
              "\n",
              "  <div id=\"df-98758dd6-e81e-40e1-9ce6-72dbf295c571\">\n",
              "    <div class=\"colab-df-container\">\n",
              "      <div>\n",
              "<style scoped>\n",
              "    .dataframe tbody tr th:only-of-type {\n",
              "        vertical-align: middle;\n",
              "    }\n",
              "\n",
              "    .dataframe tbody tr th {\n",
              "        vertical-align: top;\n",
              "    }\n",
              "\n",
              "    .dataframe thead th {\n",
              "        text-align: right;\n",
              "    }\n",
              "</style>\n",
              "<table border=\"1\" class=\"dataframe\">\n",
              "  <thead>\n",
              "    <tr style=\"text-align: right;\">\n",
              "      <th></th>\n",
              "      <th>Sex</th>\n",
              "      <th>Age</th>\n",
              "      <th>Height</th>\n",
              "      <th>Weight</th>\n",
              "      <th>A</th>\n",
              "      <th>AB</th>\n",
              "      <th>B</th>\n",
              "      <th>O</th>\n",
              "      <th>Smoking</th>\n",
              "      <th>Narcotics</th>\n",
              "      <th>...</th>\n",
              "      <th>Covid_Symptom_11</th>\n",
              "      <th>Covid_Severity</th>\n",
              "      <th>Dose1_Fever</th>\n",
              "      <th>Dose1_Fatigue</th>\n",
              "      <th>Dose1_Headache</th>\n",
              "      <th>Dose1_Nausea</th>\n",
              "      <th>Dose1_Chills</th>\n",
              "      <th>Dose1_Joint_Pain</th>\n",
              "      <th>Dose1_Muscle_Pain</th>\n",
              "      <th>Dose1_Needle</th>\n",
              "    </tr>\n",
              "  </thead>\n",
              "  <tbody>\n",
              "    <tr>\n",
              "      <th>0</th>\n",
              "      <td>0</td>\n",
              "      <td>33.0</td>\n",
              "      <td>164.0</td>\n",
              "      <td>56.0</td>\n",
              "      <td>0</td>\n",
              "      <td>0</td>\n",
              "      <td>0</td>\n",
              "      <td>1</td>\n",
              "      <td>0</td>\n",
              "      <td>0</td>\n",
              "      <td>...</td>\n",
              "      <td>0.0</td>\n",
              "      <td>0</td>\n",
              "      <td>0</td>\n",
              "      <td>0</td>\n",
              "      <td>1</td>\n",
              "      <td>0</td>\n",
              "      <td>0</td>\n",
              "      <td>0</td>\n",
              "      <td>0</td>\n",
              "      <td>1</td>\n",
              "    </tr>\n",
              "    <tr>\n",
              "      <th>1</th>\n",
              "      <td>0</td>\n",
              "      <td>33.0</td>\n",
              "      <td>164.0</td>\n",
              "      <td>56.0</td>\n",
              "      <td>0</td>\n",
              "      <td>0</td>\n",
              "      <td>0</td>\n",
              "      <td>1</td>\n",
              "      <td>0</td>\n",
              "      <td>0</td>\n",
              "      <td>...</td>\n",
              "      <td>0.0</td>\n",
              "      <td>0</td>\n",
              "      <td>0</td>\n",
              "      <td>0</td>\n",
              "      <td>1</td>\n",
              "      <td>0</td>\n",
              "      <td>0</td>\n",
              "      <td>0</td>\n",
              "      <td>0</td>\n",
              "      <td>1</td>\n",
              "    </tr>\n",
              "    <tr>\n",
              "      <th>2</th>\n",
              "      <td>0</td>\n",
              "      <td>41.0</td>\n",
              "      <td>156.0</td>\n",
              "      <td>70.0</td>\n",
              "      <td>1</td>\n",
              "      <td>0</td>\n",
              "      <td>0</td>\n",
              "      <td>0</td>\n",
              "      <td>1</td>\n",
              "      <td>0</td>\n",
              "      <td>...</td>\n",
              "      <td>0.0</td>\n",
              "      <td>0</td>\n",
              "      <td>0</td>\n",
              "      <td>1</td>\n",
              "      <td>1</td>\n",
              "      <td>0</td>\n",
              "      <td>0</td>\n",
              "      <td>1</td>\n",
              "      <td>1</td>\n",
              "      <td>1</td>\n",
              "    </tr>\n",
              "    <tr>\n",
              "      <th>3</th>\n",
              "      <td>0</td>\n",
              "      <td>62.0</td>\n",
              "      <td>157.0</td>\n",
              "      <td>65.0</td>\n",
              "      <td>0</td>\n",
              "      <td>1</td>\n",
              "      <td>0</td>\n",
              "      <td>0</td>\n",
              "      <td>1</td>\n",
              "      <td>0</td>\n",
              "      <td>...</td>\n",
              "      <td>0.0</td>\n",
              "      <td>0</td>\n",
              "      <td>0</td>\n",
              "      <td>1</td>\n",
              "      <td>0</td>\n",
              "      <td>0</td>\n",
              "      <td>0</td>\n",
              "      <td>0</td>\n",
              "      <td>0</td>\n",
              "      <td>0</td>\n",
              "    </tr>\n",
              "    <tr>\n",
              "      <th>4</th>\n",
              "      <td>0</td>\n",
              "      <td>25.0</td>\n",
              "      <td>163.0</td>\n",
              "      <td>73.0</td>\n",
              "      <td>0</td>\n",
              "      <td>0</td>\n",
              "      <td>1</td>\n",
              "      <td>0</td>\n",
              "      <td>0</td>\n",
              "      <td>0</td>\n",
              "      <td>...</td>\n",
              "      <td>0.0</td>\n",
              "      <td>0</td>\n",
              "      <td>1</td>\n",
              "      <td>1</td>\n",
              "      <td>1</td>\n",
              "      <td>0</td>\n",
              "      <td>1</td>\n",
              "      <td>1</td>\n",
              "      <td>1</td>\n",
              "      <td>1</td>\n",
              "    </tr>\n",
              "  </tbody>\n",
              "</table>\n",
              "<p>5 rows × 55 columns</p>\n",
              "</div>\n",
              "      <button class=\"colab-df-convert\" onclick=\"convertToInteractive('df-98758dd6-e81e-40e1-9ce6-72dbf295c571')\"\n",
              "              title=\"Convert this dataframe to an interactive table.\"\n",
              "              style=\"display:none;\">\n",
              "        \n",
              "  <svg xmlns=\"http://www.w3.org/2000/svg\" height=\"24px\"viewBox=\"0 0 24 24\"\n",
              "       width=\"24px\">\n",
              "    <path d=\"M0 0h24v24H0V0z\" fill=\"none\"/>\n",
              "    <path d=\"M18.56 5.44l.94 2.06.94-2.06 2.06-.94-2.06-.94-.94-2.06-.94 2.06-2.06.94zm-11 1L8.5 8.5l.94-2.06 2.06-.94-2.06-.94L8.5 2.5l-.94 2.06-2.06.94zm10 10l.94 2.06.94-2.06 2.06-.94-2.06-.94-.94-2.06-.94 2.06-2.06.94z\"/><path d=\"M17.41 7.96l-1.37-1.37c-.4-.4-.92-.59-1.43-.59-.52 0-1.04.2-1.43.59L10.3 9.45l-7.72 7.72c-.78.78-.78 2.05 0 2.83L4 21.41c.39.39.9.59 1.41.59.51 0 1.02-.2 1.41-.59l7.78-7.78 2.81-2.81c.8-.78.8-2.07 0-2.86zM5.41 20L4 18.59l7.72-7.72 1.47 1.35L5.41 20z\"/>\n",
              "  </svg>\n",
              "      </button>\n",
              "      \n",
              "  <style>\n",
              "    .colab-df-container {\n",
              "      display:flex;\n",
              "      flex-wrap:wrap;\n",
              "      gap: 12px;\n",
              "    }\n",
              "\n",
              "    .colab-df-convert {\n",
              "      background-color: #E8F0FE;\n",
              "      border: none;\n",
              "      border-radius: 50%;\n",
              "      cursor: pointer;\n",
              "      display: none;\n",
              "      fill: #1967D2;\n",
              "      height: 32px;\n",
              "      padding: 0 0 0 0;\n",
              "      width: 32px;\n",
              "    }\n",
              "\n",
              "    .colab-df-convert:hover {\n",
              "      background-color: #E2EBFA;\n",
              "      box-shadow: 0px 1px 2px rgba(60, 64, 67, 0.3), 0px 1px 3px 1px rgba(60, 64, 67, 0.15);\n",
              "      fill: #174EA6;\n",
              "    }\n",
              "\n",
              "    [theme=dark] .colab-df-convert {\n",
              "      background-color: #3B4455;\n",
              "      fill: #D2E3FC;\n",
              "    }\n",
              "\n",
              "    [theme=dark] .colab-df-convert:hover {\n",
              "      background-color: #434B5C;\n",
              "      box-shadow: 0px 1px 3px 1px rgba(0, 0, 0, 0.15);\n",
              "      filter: drop-shadow(0px 1px 2px rgba(0, 0, 0, 0.3));\n",
              "      fill: #FFFFFF;\n",
              "    }\n",
              "  </style>\n",
              "\n",
              "      <script>\n",
              "        const buttonEl =\n",
              "          document.querySelector('#df-98758dd6-e81e-40e1-9ce6-72dbf295c571 button.colab-df-convert');\n",
              "        buttonEl.style.display =\n",
              "          google.colab.kernel.accessAllowed ? 'block' : 'none';\n",
              "\n",
              "        async function convertToInteractive(key) {\n",
              "          const element = document.querySelector('#df-98758dd6-e81e-40e1-9ce6-72dbf295c571');\n",
              "          const dataTable =\n",
              "            await google.colab.kernel.invokeFunction('convertToInteractive',\n",
              "                                                     [key], {});\n",
              "          if (!dataTable) return;\n",
              "\n",
              "          const docLinkHtml = 'Like what you see? Visit the ' +\n",
              "            '<a target=\"_blank\" href=https://colab.research.google.com/notebooks/data_table.ipynb>data table notebook</a>'\n",
              "            + ' to learn more about interactive tables.';\n",
              "          element.innerHTML = '';\n",
              "          dataTable['output_type'] = 'display_data';\n",
              "          await google.colab.output.renderOutput(dataTable, element);\n",
              "          const docLink = document.createElement('div');\n",
              "          docLink.innerHTML = docLinkHtml;\n",
              "          element.appendChild(docLink);\n",
              "        }\n",
              "      </script>\n",
              "    </div>\n",
              "  </div>\n",
              "  "
            ]
          },
          "metadata": {},
          "execution_count": 17
        }
      ]
    },
    {
      "cell_type": "code",
      "source": [
        "print(df_AstraZena_1.shape)\n",
        "print(df_Covaxin_1.shape)\n",
        "print(df_Moderna_1A.shape)\n",
        "print(df_Moderna_1B.shape)\n",
        "print(df_Pfizer_1.shape)\n",
        "print(df_Sino_1.shape)\n",
        "print(df_Sputnik_1.shape)"
      ],
      "metadata": {
        "colab": {
          "base_uri": "https://localhost:8080/"
        },
        "id": "bjXBfBSSg_Dc",
        "outputId": "d7b64811-097a-44e3-a6c3-62542fc58de4"
      },
      "execution_count": null,
      "outputs": [
        {
          "output_type": "stream",
          "name": "stdout",
          "text": [
            "(6118, 55)\n",
            "(814, 55)\n",
            "(556, 55)\n",
            "(276, 55)\n",
            "(280, 55)\n",
            "(5460, 55)\n",
            "(7394, 55)\n"
          ]
        }
      ]
    },
    {
      "cell_type": "code",
      "source": [
        "df_AstraZena_1.loc[df_AstraZena_1['Dose1_Needle'] > 0, 'Dose1_Needle'] = 1"
      ],
      "metadata": {
        "id": "QwANg1ICdKkg"
      },
      "execution_count": null,
      "outputs": []
    },
    {
      "cell_type": "code",
      "source": [
        "print(df_AstraZena_1['Dose1_Needle'].min())\n",
        "print(df_AstraZena_1['Dose1_Needle'].max())"
      ],
      "metadata": {
        "colab": {
          "base_uri": "https://localhost:8080/"
        },
        "id": "H4ZUiS22fi0Y",
        "outputId": "e831662f-47e3-4197-b120-e84a9f07840b"
      },
      "execution_count": null,
      "outputs": [
        {
          "output_type": "stream",
          "name": "stdout",
          "text": [
            "0\n",
            "1\n"
          ]
        }
      ]
    },
    {
      "cell_type": "code",
      "source": [
        "df_Covaxin_1.loc[df_Covaxin_1['Dose1_Needle'] > 0, 'Dose1_Needle'] = 1\n",
        "df_Moderna_1A.loc[df_Moderna_1A['Dose1_Needle'] > 0, 'Dose1_Needle'] = 1\n",
        "df_Moderna_1B.loc[df_Moderna_1B['Dose1_Needle'] > 0, 'Dose1_Needle'] = 1\n",
        "df_Pfizer_1.loc[df_Pfizer_1['Dose1_Needle'] > 0, 'Dose1_Needle'] = 1\n",
        "df_Sino_1.loc[df_Sino_1['Dose1_Needle'] > 0, 'Dose1_Needle'] = 1\n",
        "df_Sputnik_1.loc[df_Sputnik_1['Dose1_Needle'] > 0, 'Dose1_Needle'] = 1"
      ],
      "metadata": {
        "id": "-Hi5WJJ5flmX"
      },
      "execution_count": null,
      "outputs": []
    },
    {
      "cell_type": "code",
      "source": [
        "print(df_Sino_1['Dose1_Needle'].min())\n",
        "print(df_Sino_1['Dose1_Needle'].max())"
      ],
      "metadata": {
        "colab": {
          "base_uri": "https://localhost:8080/"
        },
        "id": "8aJQGQCvgWgj",
        "outputId": "9b89f4e5-91ed-4c52-a5a1-94218c4f4b77"
      },
      "execution_count": null,
      "outputs": [
        {
          "output_type": "stream",
          "name": "stdout",
          "text": [
            "0\n",
            "1\n"
          ]
        }
      ]
    },
    {
      "cell_type": "code",
      "source": [],
      "metadata": {
        "id": "ZFFss9iZhRrI"
      },
      "execution_count": null,
      "outputs": []
    },
    {
      "cell_type": "markdown",
      "source": [
        "4. Now we have to make colums for each vaccine type and enter binary values (1 = if it's that vaccine, 0 if it's not the vaccine named in the column)"
      ],
      "metadata": {
        "id": "aZ9V8xP7hqtK"
      }
    },
    {
      "cell_type": "code",
      "source": [
        "df_Covaxin_1.insert(0, 'Covaxin', 1)"
      ],
      "metadata": {
        "id": "uDFsT01MiS9J"
      },
      "execution_count": null,
      "outputs": []
    },
    {
      "cell_type": "code",
      "source": [
        "df_Covaxin_1.insert(0, 'AstraZeneca', 0)"
      ],
      "metadata": {
        "id": "ZI49858Tt-lN"
      },
      "execution_count": null,
      "outputs": []
    },
    {
      "cell_type": "code",
      "source": [
        "df_Covaxin_1.insert(2, 'Moderna', 0)\n",
        "df_Covaxin_1.insert(3, 'Pfizer', 0)\n",
        "df_Covaxin_1.insert(4, 'Sinopharm', 0)\n",
        "df_Covaxin_1.insert(5, 'Sputnik', 0)"
      ],
      "metadata": {
        "id": "hShxA7UBuZM2"
      },
      "execution_count": null,
      "outputs": []
    },
    {
      "cell_type": "code",
      "source": [
        "df_Covaxin_1.head()"
      ],
      "metadata": {
        "colab": {
          "base_uri": "https://localhost:8080/",
          "height": 300
        },
        "id": "U9vEYQEru0om",
        "outputId": "2e52fc52-92e5-430e-fe9d-223b66fe51aa"
      },
      "execution_count": null,
      "outputs": [
        {
          "output_type": "execute_result",
          "data": {
            "text/plain": [
              "   AstraZeneca  Covaxin  Moderna  Pfizer  Sinopharm  Sputnik  Sex   Age  \\\n",
              "0            0        1        0       0          0        0    1  31.0   \n",
              "1            0        1        0       0          0        0    1  24.0   \n",
              "2            0        1        0       0          0        0    0  41.0   \n",
              "3            0        1        0       0          0        0    0  36.0   \n",
              "4            0        1        0       0          0        0    0  42.0   \n",
              "\n",
              "   Height  Weight  ...  Covid_Symptom_11  Covid_Severity  Dose1_Fever  \\\n",
              "0   179.0    80.0  ...               0.0               0            0   \n",
              "1   187.0   100.0  ...               0.0               0            0   \n",
              "2   167.0    57.0  ...               0.0               0            0   \n",
              "3   165.0    95.0  ...               0.0               0            0   \n",
              "4   158.0    64.0  ...               0.0               0            0   \n",
              "\n",
              "   Dose1_Fatigue  Dose1_Headache  Dose1_Nausea  Dose1_Chills  \\\n",
              "0              0               0             0             0   \n",
              "1              0               0             0             0   \n",
              "2              1               0             1             1   \n",
              "3              1               1             0             0   \n",
              "4              1               0             1             0   \n",
              "\n",
              "   Dose1_Joint_Pain  Dose1_Muscle_Pain  Dose1_Needle  \n",
              "0                 0                  0             0  \n",
              "1                 0                  0             1  \n",
              "2                 1                  1             1  \n",
              "3                 0                  1             1  \n",
              "4                 0                  0             1  \n",
              "\n",
              "[5 rows x 61 columns]"
            ],
            "text/html": [
              "\n",
              "  <div id=\"df-aa5d4208-ff38-4873-8766-4c2a341ca1c7\">\n",
              "    <div class=\"colab-df-container\">\n",
              "      <div>\n",
              "<style scoped>\n",
              "    .dataframe tbody tr th:only-of-type {\n",
              "        vertical-align: middle;\n",
              "    }\n",
              "\n",
              "    .dataframe tbody tr th {\n",
              "        vertical-align: top;\n",
              "    }\n",
              "\n",
              "    .dataframe thead th {\n",
              "        text-align: right;\n",
              "    }\n",
              "</style>\n",
              "<table border=\"1\" class=\"dataframe\">\n",
              "  <thead>\n",
              "    <tr style=\"text-align: right;\">\n",
              "      <th></th>\n",
              "      <th>AstraZeneca</th>\n",
              "      <th>Covaxin</th>\n",
              "      <th>Moderna</th>\n",
              "      <th>Pfizer</th>\n",
              "      <th>Sinopharm</th>\n",
              "      <th>Sputnik</th>\n",
              "      <th>Sex</th>\n",
              "      <th>Age</th>\n",
              "      <th>Height</th>\n",
              "      <th>Weight</th>\n",
              "      <th>...</th>\n",
              "      <th>Covid_Symptom_11</th>\n",
              "      <th>Covid_Severity</th>\n",
              "      <th>Dose1_Fever</th>\n",
              "      <th>Dose1_Fatigue</th>\n",
              "      <th>Dose1_Headache</th>\n",
              "      <th>Dose1_Nausea</th>\n",
              "      <th>Dose1_Chills</th>\n",
              "      <th>Dose1_Joint_Pain</th>\n",
              "      <th>Dose1_Muscle_Pain</th>\n",
              "      <th>Dose1_Needle</th>\n",
              "    </tr>\n",
              "  </thead>\n",
              "  <tbody>\n",
              "    <tr>\n",
              "      <th>0</th>\n",
              "      <td>0</td>\n",
              "      <td>1</td>\n",
              "      <td>0</td>\n",
              "      <td>0</td>\n",
              "      <td>0</td>\n",
              "      <td>0</td>\n",
              "      <td>1</td>\n",
              "      <td>31.0</td>\n",
              "      <td>179.0</td>\n",
              "      <td>80.0</td>\n",
              "      <td>...</td>\n",
              "      <td>0.0</td>\n",
              "      <td>0</td>\n",
              "      <td>0</td>\n",
              "      <td>0</td>\n",
              "      <td>0</td>\n",
              "      <td>0</td>\n",
              "      <td>0</td>\n",
              "      <td>0</td>\n",
              "      <td>0</td>\n",
              "      <td>0</td>\n",
              "    </tr>\n",
              "    <tr>\n",
              "      <th>1</th>\n",
              "      <td>0</td>\n",
              "      <td>1</td>\n",
              "      <td>0</td>\n",
              "      <td>0</td>\n",
              "      <td>0</td>\n",
              "      <td>0</td>\n",
              "      <td>1</td>\n",
              "      <td>24.0</td>\n",
              "      <td>187.0</td>\n",
              "      <td>100.0</td>\n",
              "      <td>...</td>\n",
              "      <td>0.0</td>\n",
              "      <td>0</td>\n",
              "      <td>0</td>\n",
              "      <td>0</td>\n",
              "      <td>0</td>\n",
              "      <td>0</td>\n",
              "      <td>0</td>\n",
              "      <td>0</td>\n",
              "      <td>0</td>\n",
              "      <td>1</td>\n",
              "    </tr>\n",
              "    <tr>\n",
              "      <th>2</th>\n",
              "      <td>0</td>\n",
              "      <td>1</td>\n",
              "      <td>0</td>\n",
              "      <td>0</td>\n",
              "      <td>0</td>\n",
              "      <td>0</td>\n",
              "      <td>0</td>\n",
              "      <td>41.0</td>\n",
              "      <td>167.0</td>\n",
              "      <td>57.0</td>\n",
              "      <td>...</td>\n",
              "      <td>0.0</td>\n",
              "      <td>0</td>\n",
              "      <td>0</td>\n",
              "      <td>1</td>\n",
              "      <td>0</td>\n",
              "      <td>1</td>\n",
              "      <td>1</td>\n",
              "      <td>1</td>\n",
              "      <td>1</td>\n",
              "      <td>1</td>\n",
              "    </tr>\n",
              "    <tr>\n",
              "      <th>3</th>\n",
              "      <td>0</td>\n",
              "      <td>1</td>\n",
              "      <td>0</td>\n",
              "      <td>0</td>\n",
              "      <td>0</td>\n",
              "      <td>0</td>\n",
              "      <td>0</td>\n",
              "      <td>36.0</td>\n",
              "      <td>165.0</td>\n",
              "      <td>95.0</td>\n",
              "      <td>...</td>\n",
              "      <td>0.0</td>\n",
              "      <td>0</td>\n",
              "      <td>0</td>\n",
              "      <td>1</td>\n",
              "      <td>1</td>\n",
              "      <td>0</td>\n",
              "      <td>0</td>\n",
              "      <td>0</td>\n",
              "      <td>1</td>\n",
              "      <td>1</td>\n",
              "    </tr>\n",
              "    <tr>\n",
              "      <th>4</th>\n",
              "      <td>0</td>\n",
              "      <td>1</td>\n",
              "      <td>0</td>\n",
              "      <td>0</td>\n",
              "      <td>0</td>\n",
              "      <td>0</td>\n",
              "      <td>0</td>\n",
              "      <td>42.0</td>\n",
              "      <td>158.0</td>\n",
              "      <td>64.0</td>\n",
              "      <td>...</td>\n",
              "      <td>0.0</td>\n",
              "      <td>0</td>\n",
              "      <td>0</td>\n",
              "      <td>1</td>\n",
              "      <td>0</td>\n",
              "      <td>1</td>\n",
              "      <td>0</td>\n",
              "      <td>0</td>\n",
              "      <td>0</td>\n",
              "      <td>1</td>\n",
              "    </tr>\n",
              "  </tbody>\n",
              "</table>\n",
              "<p>5 rows × 61 columns</p>\n",
              "</div>\n",
              "      <button class=\"colab-df-convert\" onclick=\"convertToInteractive('df-aa5d4208-ff38-4873-8766-4c2a341ca1c7')\"\n",
              "              title=\"Convert this dataframe to an interactive table.\"\n",
              "              style=\"display:none;\">\n",
              "        \n",
              "  <svg xmlns=\"http://www.w3.org/2000/svg\" height=\"24px\"viewBox=\"0 0 24 24\"\n",
              "       width=\"24px\">\n",
              "    <path d=\"M0 0h24v24H0V0z\" fill=\"none\"/>\n",
              "    <path d=\"M18.56 5.44l.94 2.06.94-2.06 2.06-.94-2.06-.94-.94-2.06-.94 2.06-2.06.94zm-11 1L8.5 8.5l.94-2.06 2.06-.94-2.06-.94L8.5 2.5l-.94 2.06-2.06.94zm10 10l.94 2.06.94-2.06 2.06-.94-2.06-.94-.94-2.06-.94 2.06-2.06.94z\"/><path d=\"M17.41 7.96l-1.37-1.37c-.4-.4-.92-.59-1.43-.59-.52 0-1.04.2-1.43.59L10.3 9.45l-7.72 7.72c-.78.78-.78 2.05 0 2.83L4 21.41c.39.39.9.59 1.41.59.51 0 1.02-.2 1.41-.59l7.78-7.78 2.81-2.81c.8-.78.8-2.07 0-2.86zM5.41 20L4 18.59l7.72-7.72 1.47 1.35L5.41 20z\"/>\n",
              "  </svg>\n",
              "      </button>\n",
              "      \n",
              "  <style>\n",
              "    .colab-df-container {\n",
              "      display:flex;\n",
              "      flex-wrap:wrap;\n",
              "      gap: 12px;\n",
              "    }\n",
              "\n",
              "    .colab-df-convert {\n",
              "      background-color: #E8F0FE;\n",
              "      border: none;\n",
              "      border-radius: 50%;\n",
              "      cursor: pointer;\n",
              "      display: none;\n",
              "      fill: #1967D2;\n",
              "      height: 32px;\n",
              "      padding: 0 0 0 0;\n",
              "      width: 32px;\n",
              "    }\n",
              "\n",
              "    .colab-df-convert:hover {\n",
              "      background-color: #E2EBFA;\n",
              "      box-shadow: 0px 1px 2px rgba(60, 64, 67, 0.3), 0px 1px 3px 1px rgba(60, 64, 67, 0.15);\n",
              "      fill: #174EA6;\n",
              "    }\n",
              "\n",
              "    [theme=dark] .colab-df-convert {\n",
              "      background-color: #3B4455;\n",
              "      fill: #D2E3FC;\n",
              "    }\n",
              "\n",
              "    [theme=dark] .colab-df-convert:hover {\n",
              "      background-color: #434B5C;\n",
              "      box-shadow: 0px 1px 3px 1px rgba(0, 0, 0, 0.15);\n",
              "      filter: drop-shadow(0px 1px 2px rgba(0, 0, 0, 0.3));\n",
              "      fill: #FFFFFF;\n",
              "    }\n",
              "  </style>\n",
              "\n",
              "      <script>\n",
              "        const buttonEl =\n",
              "          document.querySelector('#df-aa5d4208-ff38-4873-8766-4c2a341ca1c7 button.colab-df-convert');\n",
              "        buttonEl.style.display =\n",
              "          google.colab.kernel.accessAllowed ? 'block' : 'none';\n",
              "\n",
              "        async function convertToInteractive(key) {\n",
              "          const element = document.querySelector('#df-aa5d4208-ff38-4873-8766-4c2a341ca1c7');\n",
              "          const dataTable =\n",
              "            await google.colab.kernel.invokeFunction('convertToInteractive',\n",
              "                                                     [key], {});\n",
              "          if (!dataTable) return;\n",
              "\n",
              "          const docLinkHtml = 'Like what you see? Visit the ' +\n",
              "            '<a target=\"_blank\" href=https://colab.research.google.com/notebooks/data_table.ipynb>data table notebook</a>'\n",
              "            + ' to learn more about interactive tables.';\n",
              "          element.innerHTML = '';\n",
              "          dataTable['output_type'] = 'display_data';\n",
              "          await google.colab.output.renderOutput(dataTable, element);\n",
              "          const docLink = document.createElement('div');\n",
              "          docLink.innerHTML = docLinkHtml;\n",
              "          element.appendChild(docLink);\n",
              "        }\n",
              "      </script>\n",
              "    </div>\n",
              "  </div>\n",
              "  "
            ]
          },
          "metadata": {},
          "execution_count": 26
        }
      ]
    },
    {
      "cell_type": "code",
      "source": [
        "df_AstraZena_1.insert(0, 'AstraZeneca', 1)\n",
        "df_AstraZena_1.insert(1, 'Covaxin', 0)\n",
        "df_AstraZena_1.insert(2, 'Moderna', 0)\n",
        "df_AstraZena_1.insert(3, 'Pfizer', 0)\n",
        "df_AstraZena_1.insert(4, 'Sinopharm', 0)\n",
        "df_AstraZena_1.insert(5, 'Sputnik', 0)"
      ],
      "metadata": {
        "id": "-3QY_x7Iu8PQ"
      },
      "execution_count": null,
      "outputs": []
    },
    {
      "cell_type": "code",
      "source": [
        "df_AstraZena_1.head()"
      ],
      "metadata": {
        "colab": {
          "base_uri": "https://localhost:8080/",
          "height": 300
        },
        "id": "8WnyGYrAoatH",
        "outputId": "d257f88e-8005-487b-d4c5-7cf2c18b2fe0"
      },
      "execution_count": null,
      "outputs": [
        {
          "output_type": "execute_result",
          "data": {
            "text/plain": [
              "   AstraZeneca  Covaxin  Moderna  Pfizer  Sinopharm  Sputnik  Sex   Age  \\\n",
              "0            1        0        0       0          0        0    0  33.0   \n",
              "1            1        0        0       0          0        0    0  33.0   \n",
              "2            1        0        0       0          0        0    0  41.0   \n",
              "3            1        0        0       0          0        0    0  62.0   \n",
              "4            1        0        0       0          0        0    0  25.0   \n",
              "\n",
              "   Height  Weight  ...  Covid_Symptom_11  Covid_Severity  Dose1_Fever  \\\n",
              "0   164.0    56.0  ...               0.0               0            0   \n",
              "1   164.0    56.0  ...               0.0               0            0   \n",
              "2   156.0    70.0  ...               0.0               0            0   \n",
              "3   157.0    65.0  ...               0.0               0            0   \n",
              "4   163.0    73.0  ...               0.0               0            1   \n",
              "\n",
              "   Dose1_Fatigue  Dose1_Headache  Dose1_Nausea  Dose1_Chills  \\\n",
              "0              0               1             0             0   \n",
              "1              0               1             0             0   \n",
              "2              1               1             0             0   \n",
              "3              1               0             0             0   \n",
              "4              1               1             0             1   \n",
              "\n",
              "   Dose1_Joint_Pain  Dose1_Muscle_Pain  Dose1_Needle  \n",
              "0                 0                  0             1  \n",
              "1                 0                  0             1  \n",
              "2                 1                  1             1  \n",
              "3                 0                  0             0  \n",
              "4                 1                  1             1  \n",
              "\n",
              "[5 rows x 61 columns]"
            ],
            "text/html": [
              "\n",
              "  <div id=\"df-d2e3e5ac-561d-41cf-a3c3-af06bbb1b65b\">\n",
              "    <div class=\"colab-df-container\">\n",
              "      <div>\n",
              "<style scoped>\n",
              "    .dataframe tbody tr th:only-of-type {\n",
              "        vertical-align: middle;\n",
              "    }\n",
              "\n",
              "    .dataframe tbody tr th {\n",
              "        vertical-align: top;\n",
              "    }\n",
              "\n",
              "    .dataframe thead th {\n",
              "        text-align: right;\n",
              "    }\n",
              "</style>\n",
              "<table border=\"1\" class=\"dataframe\">\n",
              "  <thead>\n",
              "    <tr style=\"text-align: right;\">\n",
              "      <th></th>\n",
              "      <th>AstraZeneca</th>\n",
              "      <th>Covaxin</th>\n",
              "      <th>Moderna</th>\n",
              "      <th>Pfizer</th>\n",
              "      <th>Sinopharm</th>\n",
              "      <th>Sputnik</th>\n",
              "      <th>Sex</th>\n",
              "      <th>Age</th>\n",
              "      <th>Height</th>\n",
              "      <th>Weight</th>\n",
              "      <th>...</th>\n",
              "      <th>Covid_Symptom_11</th>\n",
              "      <th>Covid_Severity</th>\n",
              "      <th>Dose1_Fever</th>\n",
              "      <th>Dose1_Fatigue</th>\n",
              "      <th>Dose1_Headache</th>\n",
              "      <th>Dose1_Nausea</th>\n",
              "      <th>Dose1_Chills</th>\n",
              "      <th>Dose1_Joint_Pain</th>\n",
              "      <th>Dose1_Muscle_Pain</th>\n",
              "      <th>Dose1_Needle</th>\n",
              "    </tr>\n",
              "  </thead>\n",
              "  <tbody>\n",
              "    <tr>\n",
              "      <th>0</th>\n",
              "      <td>1</td>\n",
              "      <td>0</td>\n",
              "      <td>0</td>\n",
              "      <td>0</td>\n",
              "      <td>0</td>\n",
              "      <td>0</td>\n",
              "      <td>0</td>\n",
              "      <td>33.0</td>\n",
              "      <td>164.0</td>\n",
              "      <td>56.0</td>\n",
              "      <td>...</td>\n",
              "      <td>0.0</td>\n",
              "      <td>0</td>\n",
              "      <td>0</td>\n",
              "      <td>0</td>\n",
              "      <td>1</td>\n",
              "      <td>0</td>\n",
              "      <td>0</td>\n",
              "      <td>0</td>\n",
              "      <td>0</td>\n",
              "      <td>1</td>\n",
              "    </tr>\n",
              "    <tr>\n",
              "      <th>1</th>\n",
              "      <td>1</td>\n",
              "      <td>0</td>\n",
              "      <td>0</td>\n",
              "      <td>0</td>\n",
              "      <td>0</td>\n",
              "      <td>0</td>\n",
              "      <td>0</td>\n",
              "      <td>33.0</td>\n",
              "      <td>164.0</td>\n",
              "      <td>56.0</td>\n",
              "      <td>...</td>\n",
              "      <td>0.0</td>\n",
              "      <td>0</td>\n",
              "      <td>0</td>\n",
              "      <td>0</td>\n",
              "      <td>1</td>\n",
              "      <td>0</td>\n",
              "      <td>0</td>\n",
              "      <td>0</td>\n",
              "      <td>0</td>\n",
              "      <td>1</td>\n",
              "    </tr>\n",
              "    <tr>\n",
              "      <th>2</th>\n",
              "      <td>1</td>\n",
              "      <td>0</td>\n",
              "      <td>0</td>\n",
              "      <td>0</td>\n",
              "      <td>0</td>\n",
              "      <td>0</td>\n",
              "      <td>0</td>\n",
              "      <td>41.0</td>\n",
              "      <td>156.0</td>\n",
              "      <td>70.0</td>\n",
              "      <td>...</td>\n",
              "      <td>0.0</td>\n",
              "      <td>0</td>\n",
              "      <td>0</td>\n",
              "      <td>1</td>\n",
              "      <td>1</td>\n",
              "      <td>0</td>\n",
              "      <td>0</td>\n",
              "      <td>1</td>\n",
              "      <td>1</td>\n",
              "      <td>1</td>\n",
              "    </tr>\n",
              "    <tr>\n",
              "      <th>3</th>\n",
              "      <td>1</td>\n",
              "      <td>0</td>\n",
              "      <td>0</td>\n",
              "      <td>0</td>\n",
              "      <td>0</td>\n",
              "      <td>0</td>\n",
              "      <td>0</td>\n",
              "      <td>62.0</td>\n",
              "      <td>157.0</td>\n",
              "      <td>65.0</td>\n",
              "      <td>...</td>\n",
              "      <td>0.0</td>\n",
              "      <td>0</td>\n",
              "      <td>0</td>\n",
              "      <td>1</td>\n",
              "      <td>0</td>\n",
              "      <td>0</td>\n",
              "      <td>0</td>\n",
              "      <td>0</td>\n",
              "      <td>0</td>\n",
              "      <td>0</td>\n",
              "    </tr>\n",
              "    <tr>\n",
              "      <th>4</th>\n",
              "      <td>1</td>\n",
              "      <td>0</td>\n",
              "      <td>0</td>\n",
              "      <td>0</td>\n",
              "      <td>0</td>\n",
              "      <td>0</td>\n",
              "      <td>0</td>\n",
              "      <td>25.0</td>\n",
              "      <td>163.0</td>\n",
              "      <td>73.0</td>\n",
              "      <td>...</td>\n",
              "      <td>0.0</td>\n",
              "      <td>0</td>\n",
              "      <td>1</td>\n",
              "      <td>1</td>\n",
              "      <td>1</td>\n",
              "      <td>0</td>\n",
              "      <td>1</td>\n",
              "      <td>1</td>\n",
              "      <td>1</td>\n",
              "      <td>1</td>\n",
              "    </tr>\n",
              "  </tbody>\n",
              "</table>\n",
              "<p>5 rows × 61 columns</p>\n",
              "</div>\n",
              "      <button class=\"colab-df-convert\" onclick=\"convertToInteractive('df-d2e3e5ac-561d-41cf-a3c3-af06bbb1b65b')\"\n",
              "              title=\"Convert this dataframe to an interactive table.\"\n",
              "              style=\"display:none;\">\n",
              "        \n",
              "  <svg xmlns=\"http://www.w3.org/2000/svg\" height=\"24px\"viewBox=\"0 0 24 24\"\n",
              "       width=\"24px\">\n",
              "    <path d=\"M0 0h24v24H0V0z\" fill=\"none\"/>\n",
              "    <path d=\"M18.56 5.44l.94 2.06.94-2.06 2.06-.94-2.06-.94-.94-2.06-.94 2.06-2.06.94zm-11 1L8.5 8.5l.94-2.06 2.06-.94-2.06-.94L8.5 2.5l-.94 2.06-2.06.94zm10 10l.94 2.06.94-2.06 2.06-.94-2.06-.94-.94-2.06-.94 2.06-2.06.94z\"/><path d=\"M17.41 7.96l-1.37-1.37c-.4-.4-.92-.59-1.43-.59-.52 0-1.04.2-1.43.59L10.3 9.45l-7.72 7.72c-.78.78-.78 2.05 0 2.83L4 21.41c.39.39.9.59 1.41.59.51 0 1.02-.2 1.41-.59l7.78-7.78 2.81-2.81c.8-.78.8-2.07 0-2.86zM5.41 20L4 18.59l7.72-7.72 1.47 1.35L5.41 20z\"/>\n",
              "  </svg>\n",
              "      </button>\n",
              "      \n",
              "  <style>\n",
              "    .colab-df-container {\n",
              "      display:flex;\n",
              "      flex-wrap:wrap;\n",
              "      gap: 12px;\n",
              "    }\n",
              "\n",
              "    .colab-df-convert {\n",
              "      background-color: #E8F0FE;\n",
              "      border: none;\n",
              "      border-radius: 50%;\n",
              "      cursor: pointer;\n",
              "      display: none;\n",
              "      fill: #1967D2;\n",
              "      height: 32px;\n",
              "      padding: 0 0 0 0;\n",
              "      width: 32px;\n",
              "    }\n",
              "\n",
              "    .colab-df-convert:hover {\n",
              "      background-color: #E2EBFA;\n",
              "      box-shadow: 0px 1px 2px rgba(60, 64, 67, 0.3), 0px 1px 3px 1px rgba(60, 64, 67, 0.15);\n",
              "      fill: #174EA6;\n",
              "    }\n",
              "\n",
              "    [theme=dark] .colab-df-convert {\n",
              "      background-color: #3B4455;\n",
              "      fill: #D2E3FC;\n",
              "    }\n",
              "\n",
              "    [theme=dark] .colab-df-convert:hover {\n",
              "      background-color: #434B5C;\n",
              "      box-shadow: 0px 1px 3px 1px rgba(0, 0, 0, 0.15);\n",
              "      filter: drop-shadow(0px 1px 2px rgba(0, 0, 0, 0.3));\n",
              "      fill: #FFFFFF;\n",
              "    }\n",
              "  </style>\n",
              "\n",
              "      <script>\n",
              "        const buttonEl =\n",
              "          document.querySelector('#df-d2e3e5ac-561d-41cf-a3c3-af06bbb1b65b button.colab-df-convert');\n",
              "        buttonEl.style.display =\n",
              "          google.colab.kernel.accessAllowed ? 'block' : 'none';\n",
              "\n",
              "        async function convertToInteractive(key) {\n",
              "          const element = document.querySelector('#df-d2e3e5ac-561d-41cf-a3c3-af06bbb1b65b');\n",
              "          const dataTable =\n",
              "            await google.colab.kernel.invokeFunction('convertToInteractive',\n",
              "                                                     [key], {});\n",
              "          if (!dataTable) return;\n",
              "\n",
              "          const docLinkHtml = 'Like what you see? Visit the ' +\n",
              "            '<a target=\"_blank\" href=https://colab.research.google.com/notebooks/data_table.ipynb>data table notebook</a>'\n",
              "            + ' to learn more about interactive tables.';\n",
              "          element.innerHTML = '';\n",
              "          dataTable['output_type'] = 'display_data';\n",
              "          await google.colab.output.renderOutput(dataTable, element);\n",
              "          const docLink = document.createElement('div');\n",
              "          docLink.innerHTML = docLinkHtml;\n",
              "          element.appendChild(docLink);\n",
              "        }\n",
              "      </script>\n",
              "    </div>\n",
              "  </div>\n",
              "  "
            ]
          },
          "metadata": {},
          "execution_count": 28
        }
      ]
    },
    {
      "cell_type": "code",
      "source": [
        "df_Moderna_1A.insert(0, 'AstraZeneca', 0)\n",
        "df_Moderna_1A.insert(1, 'Covaxin', 0)\n",
        "df_Moderna_1A.insert(2, 'Moderna', 1)\n",
        "df_Moderna_1A.insert(3, 'Pfizer', 0)\n",
        "df_Moderna_1A.insert(4, 'Sinopharm', 0)\n",
        "df_Moderna_1A.insert(5, 'Sputnik', 0)"
      ],
      "metadata": {
        "id": "Q5_Gf2XNvYqz"
      },
      "execution_count": null,
      "outputs": []
    },
    {
      "cell_type": "code",
      "source": [
        "df_Moderna_1B.insert(0, 'AstraZeneca', 0)\n",
        "df_Moderna_1B.insert(1, 'Covaxin', 0)\n",
        "df_Moderna_1B.insert(2, 'Moderna', 1)\n",
        "df_Moderna_1B.insert(3, 'Pfizer', 0)\n",
        "df_Moderna_1B.insert(4, 'Sinopharm', 0)\n",
        "df_Moderna_1B.insert(5, 'Sputnik', 0)"
      ],
      "metadata": {
        "id": "k0r_LE_vvjE7"
      },
      "execution_count": null,
      "outputs": []
    },
    {
      "cell_type": "code",
      "source": [
        "df_Pfizer_1.insert(0, 'AstraZeneca', 0)\n",
        "df_Pfizer_1.insert(1, 'Covaxin', 0)\n",
        "df_Pfizer_1.insert(2, 'Moderna', 0)\n",
        "df_Pfizer_1.insert(3, 'Pfizer', 1)\n",
        "df_Pfizer_1.insert(4, 'Sinopharm', 0)\n",
        "df_Pfizer_1.insert(5, 'Sputnik', 0)"
      ],
      "metadata": {
        "id": "IpDADPWcwMjI"
      },
      "execution_count": null,
      "outputs": []
    },
    {
      "cell_type": "code",
      "source": [
        "df_Sino_1.insert(0, 'AstraZeneca', 0)\n",
        "df_Sino_1.insert(1, 'Covaxin', 0)\n",
        "df_Sino_1.insert(2, 'Moderna', 0)\n",
        "df_Sino_1.insert(3, 'Pfizer', 0)\n",
        "df_Sino_1.insert(4, 'Sinopharm', 1)\n",
        "df_Sino_1.insert(5, 'Sputnik', 0)"
      ],
      "metadata": {
        "id": "eiZWafb4wYpS"
      },
      "execution_count": null,
      "outputs": []
    },
    {
      "cell_type": "code",
      "source": [
        "df_Sputnik_1.insert(0, 'AstraZeneca', 0)\n",
        "df_Sputnik_1.insert(1, 'Covaxin', 0)\n",
        "df_Sputnik_1.insert(2, 'Moderna', 0)\n",
        "df_Sputnik_1.insert(3, 'Pfizer', 0)\n",
        "df_Sputnik_1.insert(4, 'Sinopharm', 0)\n",
        "df_Sputnik_1.insert(5, 'Sputnik', 1)"
      ],
      "metadata": {
        "id": "AbL-cjPlwg6h"
      },
      "execution_count": null,
      "outputs": []
    },
    {
      "cell_type": "code",
      "source": [
        "print(df_AstraZena_1.shape)\n",
        "print(df_Covaxin_1.shape)\n",
        "print(df_Moderna_1A.shape)\n",
        "print(df_Moderna_1B.shape)\n",
        "print(df_Pfizer_1.shape)\n",
        "print(df_Sino_1.shape)\n",
        "print(df_Sputnik_1.shape)"
      ],
      "metadata": {
        "colab": {
          "base_uri": "https://localhost:8080/"
        },
        "id": "5Hy9aI6flJQK",
        "outputId": "596d91c7-57a6-4dd4-c9ea-c8e0e29986f2"
      },
      "execution_count": null,
      "outputs": [
        {
          "output_type": "stream",
          "name": "stdout",
          "text": [
            "(6118, 61)\n",
            "(814, 61)\n",
            "(556, 61)\n",
            "(276, 61)\n",
            "(280, 61)\n",
            "(5460, 61)\n",
            "(7394, 61)\n"
          ]
        }
      ]
    },
    {
      "cell_type": "markdown",
      "source": [
        "5. Check for duplicates between Moderna_1A and Moderna_1B, delete dups, and merge"
      ],
      "metadata": {
        "id": "sV3hr0DkxCQV"
      }
    },
    {
      "cell_type": "code",
      "source": [
        "row_1 = df_Moderna_1A.shape[0]\n",
        "row_2 = df_Moderna_1B.shape[0]"
      ],
      "metadata": {
        "id": "bpEZkKWPk6FM"
      },
      "execution_count": null,
      "outputs": []
    },
    {
      "cell_type": "code",
      "source": [
        "repeats_idx_1A = []\n",
        "for i in range(row_1):\n",
        "  for j in range(row_2):\n",
        "    if (df_Moderna_1A.loc[i].equals(df_Moderna_1B.loc[j])):\n",
        "      repeats_idx_1A.append(i)"
      ],
      "metadata": {
        "id": "O8dRMZqcypfx"
      },
      "execution_count": null,
      "outputs": []
    },
    {
      "cell_type": "code",
      "source": [
        "print(repeats_idx_1A)\n",
        "print(len(repeats_idx_1A))"
      ],
      "metadata": {
        "colab": {
          "base_uri": "https://localhost:8080/"
        },
        "id": "1m7KRviNzQrq",
        "outputId": "74a0b515-65c1-42b7-c7ae-e49af9e03242"
      },
      "execution_count": null,
      "outputs": [
        {
          "output_type": "stream",
          "name": "stdout",
          "text": [
            "[280, 281, 282, 283, 284, 285, 286, 287, 288, 289, 290, 291, 292, 293, 294, 295, 296, 297, 298, 299, 300, 301, 302, 303, 304, 305, 306, 307, 308, 309, 310, 311, 312, 313, 314, 315, 316, 317, 318, 319, 320, 321, 322, 323, 324, 325, 326, 327, 328, 329, 330, 331, 332, 333, 334, 335, 336, 337, 338, 339, 340, 341, 342, 343, 344, 345, 346, 347, 348, 349, 350, 351, 352, 353, 354, 355, 356, 357, 358, 359, 360, 361, 362, 363, 364, 365, 366, 367, 368, 369, 370, 371, 372, 373, 374, 375, 376, 377, 378, 379, 380, 381, 382, 383, 384, 385, 386, 387, 388, 389, 390, 391, 392, 393, 394, 395, 396, 397, 398, 399, 400, 401, 402, 403, 404, 405, 406, 407, 408, 409, 410, 411, 412, 413, 414, 415, 416, 417, 418, 419, 420, 421, 422, 423, 424, 425, 426, 427, 428, 429, 430, 431, 432, 433, 434, 435, 436, 437, 438, 439, 440, 441, 442, 443, 444, 445, 446, 447, 448, 449, 450, 451, 452, 453, 454, 455, 456, 457, 458, 459, 460, 461, 462, 463, 464, 465, 466, 467, 468, 469, 470, 471, 472, 473, 474, 475, 476, 477, 478, 479, 480, 481, 482, 483, 484, 485, 486, 487, 488, 489, 490, 491, 492, 493, 494, 495, 496, 497, 498, 499, 500, 501, 502, 503, 504, 505, 506, 507, 508, 509, 510, 511, 512, 513, 514, 515, 516, 517, 518, 519, 520, 521, 522, 523, 524, 525, 526, 527, 528, 529, 530, 531, 532, 533, 534, 535, 536, 537, 538, 539, 540, 541, 542, 543, 544, 545, 546, 547, 548, 549, 550, 551, 552, 553, 554, 555]\n",
            "276\n"
          ]
        }
      ]
    },
    {
      "cell_type": "code",
      "source": [
        "print(df_Moderna_1A.shape)"
      ],
      "metadata": {
        "colab": {
          "base_uri": "https://localhost:8080/"
        },
        "id": "k7Wj1zx31RII",
        "outputId": "4f31f411-c229-4379-e357-4dfce0177b40"
      },
      "execution_count": null,
      "outputs": [
        {
          "output_type": "stream",
          "name": "stdout",
          "text": [
            "(556, 61)\n"
          ]
        }
      ]
    },
    {
      "cell_type": "code",
      "source": [
        "df_Moderna_1A = df_Moderna_1A.drop(repeats_idx_1A)"
      ],
      "metadata": {
        "id": "Z6AOw0-J0OP3"
      },
      "execution_count": null,
      "outputs": []
    },
    {
      "cell_type": "code",
      "source": [
        "print(df_Moderna_1A.shape)"
      ],
      "metadata": {
        "colab": {
          "base_uri": "https://localhost:8080/"
        },
        "id": "m4PfEctM2XyG",
        "outputId": "98e28f88-cbc6-495e-b19f-1bf5bc5f2832"
      },
      "execution_count": null,
      "outputs": [
        {
          "output_type": "stream",
          "name": "stdout",
          "text": [
            "(280, 61)\n"
          ]
        }
      ]
    },
    {
      "cell_type": "markdown",
      "source": [
        "Lol it turns out everything in 1B was just a subset of the data in Moderna 1A"
      ],
      "metadata": {
        "id": "_GmjsnawprcE"
      }
    },
    {
      "cell_type": "markdown",
      "source": [
        "6. Combine ALL data to one dataframe"
      ],
      "metadata": {
        "id": "JSYKU_P06w61"
      }
    },
    {
      "cell_type": "code",
      "source": [
        "df_X = pd.concat([df_AstraZena_1, df_Covaxin_1, df_Moderna_1A, df_Moderna_1B, df_Pfizer_1, df_Sino_1, df_Sputnik_1])"
      ],
      "metadata": {
        "id": "C7MYUUuZ35dC"
      },
      "execution_count": null,
      "outputs": []
    },
    {
      "cell_type": "code",
      "source": [
        "print(df_X.shape)"
      ],
      "metadata": {
        "colab": {
          "base_uri": "https://localhost:8080/"
        },
        "id": "4d06zgd-7NcR",
        "outputId": "5acb971b-f549-4e01-f3e9-180f5d13085f"
      },
      "execution_count": null,
      "outputs": [
        {
          "output_type": "stream",
          "name": "stdout",
          "text": [
            "(20622, 61)\n"
          ]
        }
      ]
    },
    {
      "cell_type": "markdown",
      "source": [
        "# Explore the data"
      ],
      "metadata": {
        "id": "c7XOj_2FNLQ3"
      }
    },
    {
      "cell_type": "markdown",
      "source": [
        "*   See how prevalent a certain feature is\n",
        "\n",
        "*   Define Signficantly sparse features to be <=1.19%: which are Alcohol, Narcotics, Symptoms [8, 11, 13], Covid symptoms [6, 7]\n",
        "\n",
        "* Should we inc. Symptom 15? Feature 15 just means there were no symptoms and Covid_test feature just means the person had covid in the past (they're repeated features) -> they're correlated features"
      ],
      "metadata": {
        "id": "jxR8Cneu99cu"
      }
    },
    {
      "cell_type": "code",
      "source": [
        "print(df_X.shape)"
      ],
      "metadata": {
        "colab": {
          "base_uri": "https://localhost:8080/"
        },
        "id": "SRKTAL9BNRCL",
        "outputId": "facf3015-888b-4258-9611-6c563bbd3d04"
      },
      "execution_count": null,
      "outputs": [
        {
          "output_type": "stream",
          "name": "stdout",
          "text": [
            "(20622, 61)\n"
          ]
        }
      ]
    },
    {
      "cell_type": "code",
      "source": [
        "total = df_X['Sex'].value_counts()[0] + df_X['Sex'].value_counts()[1]\n",
        "print(df_X['Sex'].value_counts()[1] / total)"
      ],
      "metadata": {
        "colab": {
          "base_uri": "https://localhost:8080/"
        },
        "id": "WtIwwV47NajL",
        "outputId": "ac2a199e-a598-4261-b2f0-0a2b2c4f05a4"
      },
      "execution_count": null,
      "outputs": [
        {
          "output_type": "stream",
          "name": "stdout",
          "text": [
            "0.46877121520706044\n"
          ]
        }
      ]
    },
    {
      "cell_type": "code",
      "source": [
        "total = df_X['A'].value_counts()[0] + df_X['A'].value_counts()[1]\n",
        "print(df_X['A'].value_counts()[1] / total)"
      ],
      "metadata": {
        "colab": {
          "base_uri": "https://localhost:8080/"
        },
        "id": "E6jKdE0UW7p5",
        "outputId": "43d918a8-9671-46f7-b2dd-0379d52732f1"
      },
      "execution_count": null,
      "outputs": [
        {
          "output_type": "stream",
          "name": "stdout",
          "text": [
            "0.31296673455532925\n"
          ]
        }
      ]
    },
    {
      "cell_type": "code",
      "source": [
        "total = df_X['AB'].value_counts()[0] + df_X['AB'].value_counts()[1]\n",
        "print(df_X['AB'].value_counts()[1] / total)"
      ],
      "metadata": {
        "colab": {
          "base_uri": "https://localhost:8080/"
        },
        "id": "GFtzsrvxX9ro",
        "outputId": "cb05778c-74fd-418b-efb5-ceb053c47ff1"
      },
      "execution_count": null,
      "outputs": [
        {
          "output_type": "stream",
          "name": "stdout",
          "text": [
            "0.09635340898070022\n"
          ]
        }
      ]
    },
    {
      "cell_type": "code",
      "source": [
        "total = df_X['B'].value_counts()[0] + df_X['B'].value_counts()[1]\n",
        "print(df_X['B'].value_counts()[1] / total)"
      ],
      "metadata": {
        "colab": {
          "base_uri": "https://localhost:8080/"
        },
        "id": "pcOH1pofYANn",
        "outputId": "8a11faa9-f9bb-4ee5-be53-e4dd3144a425"
      },
      "execution_count": null,
      "outputs": [
        {
          "output_type": "stream",
          "name": "stdout",
          "text": [
            "0.21792260692464357\n"
          ]
        }
      ]
    },
    {
      "cell_type": "code",
      "source": [
        "total = df_X['O'].value_counts()[0] + df_X['O'].value_counts()[1]\n",
        "print(df_X['O'].value_counts()[1] / total)"
      ],
      "metadata": {
        "colab": {
          "base_uri": "https://localhost:8080/"
        },
        "id": "DoyyHu8iYDAS",
        "outputId": "bc101300-c558-42cf-9378-95fce7eb3dc6"
      },
      "execution_count": null,
      "outputs": [
        {
          "output_type": "stream",
          "name": "stdout",
          "text": [
            "0.3672776646300068\n"
          ]
        }
      ]
    },
    {
      "cell_type": "code",
      "source": [
        "total = df_X['Smoking'].value_counts()[0] + df_X['Smoking'].value_counts()[1]\n",
        "print(df_X['Smoking'].value_counts()[1] / total)"
      ],
      "metadata": {
        "colab": {
          "base_uri": "https://localhost:8080/"
        },
        "id": "mpA1_8SAYGe5",
        "outputId": "306c1f2d-bfd0-45bf-fca3-9a0d27526b14"
      },
      "execution_count": null,
      "outputs": [
        {
          "output_type": "stream",
          "name": "stdout",
          "text": [
            "0.16196295218698478\n"
          ]
        }
      ]
    },
    {
      "cell_type": "code",
      "source": [
        "total = df_X['Narcotics'].value_counts()[0] + df_X['Narcotics'].value_counts()[1]\n",
        "print(df_X['Narcotics'].value_counts()[1] / total)"
      ],
      "metadata": {
        "colab": {
          "base_uri": "https://localhost:8080/"
        },
        "id": "e_nMZI3NYQ1J",
        "outputId": "936086ee-84cd-463e-c345-1936500ac168"
      },
      "execution_count": null,
      "outputs": [
        {
          "output_type": "stream",
          "name": "stdout",
          "text": [
            "0.0119290078556881\n"
          ]
        }
      ]
    },
    {
      "cell_type": "code",
      "source": [
        "total = df_X['Alcohol'].value_counts()[0] + df_X['Alcohol'].value_counts()[1]\n",
        "print(df_X['Alcohol'].value_counts()[1] / total)"
      ],
      "metadata": {
        "colab": {
          "base_uri": "https://localhost:8080/"
        },
        "id": "NJXNvysIYVOX",
        "outputId": "c3f37f9a-cb38-4311-cbc0-3558cc26f3e7"
      },
      "execution_count": null,
      "outputs": [
        {
          "output_type": "stream",
          "name": "stdout",
          "text": [
            "0.013141305401997866\n"
          ]
        }
      ]
    },
    {
      "cell_type": "markdown",
      "source": [
        "Symptoms 0 - 15: "
      ],
      "metadata": {
        "id": "pg4lO-LpCACL"
      }
    },
    {
      "cell_type": "code",
      "source": [
        "total = df_X['Symptom_0'].value_counts()[0] + df_X['Symptom_0'].value_counts()[1]\n",
        "print(df_X['Symptom_0'].value_counts()[1] / total)"
      ],
      "metadata": {
        "colab": {
          "base_uri": "https://localhost:8080/"
        },
        "id": "PfW8jYRVYXrv",
        "outputId": "5cc84a2a-8473-4d5b-efde-d50dffdc4dcb"
      },
      "execution_count": null,
      "outputs": [
        {
          "output_type": "stream",
          "name": "stdout",
          "text": [
            "0.07409562603045292\n"
          ]
        }
      ]
    },
    {
      "cell_type": "code",
      "source": [
        "total = df_X['Symptom_1'].value_counts()[0] + df_X['Symptom_1'].value_counts()[1]\n",
        "print(df_X['Symptom_1'].value_counts()[1] / total)"
      ],
      "metadata": {
        "id": "6gBhn79VYcRL",
        "outputId": "ae8fb1ea-5fcf-4148-d56d-d5438309a929",
        "colab": {
          "base_uri": "https://localhost:8080/"
        }
      },
      "execution_count": null,
      "outputs": [
        {
          "output_type": "stream",
          "name": "stdout",
          "text": [
            "0.0721074580545049\n"
          ]
        }
      ]
    },
    {
      "cell_type": "code",
      "source": [
        "total = df_X['Symptom_2'].value_counts()[0] + df_X['Symptom_2'].value_counts()[1]\n",
        "print(df_X['Symptom_2'].value_counts()[1] / total)"
      ],
      "metadata": {
        "id": "_ZgCH5iCYf0o",
        "outputId": "f7a03a02-9026-459e-d055-a8fc62d7d3d8",
        "colab": {
          "base_uri": "https://localhost:8080/"
        }
      },
      "execution_count": null,
      "outputs": [
        {
          "output_type": "stream",
          "name": "stdout",
          "text": [
            "0.14300261856270002\n"
          ]
        }
      ]
    },
    {
      "cell_type": "code",
      "source": [
        "total = df_X['Symptom_3'].value_counts()[0] + df_X['Symptom_3'].value_counts()[1]\n",
        "print(df_X['Symptom_3'].value_counts()[1] / total)"
      ],
      "metadata": {
        "colab": {
          "base_uri": "https://localhost:8080/"
        },
        "id": "sZ1QoWKA-o1d",
        "outputId": "83d00e49-7d5a-43a8-8fd4-c9a99b7af80f"
      },
      "execution_count": null,
      "outputs": [
        {
          "output_type": "stream",
          "name": "stdout",
          "text": [
            "0.027834351663272233\n"
          ]
        }
      ]
    },
    {
      "cell_type": "code",
      "source": [
        "total = df_X['Symptom_4'].value_counts()[0] + df_X['Symptom_4'].value_counts()[1]\n",
        "print(df_X['Symptom_4'].value_counts()[1] / total)"
      ],
      "metadata": {
        "colab": {
          "base_uri": "https://localhost:8080/"
        },
        "id": "hTKZWLML-pBQ",
        "outputId": "b808e2df-32f7-4cee-b681-b05e1279acfc"
      },
      "execution_count": null,
      "outputs": [
        {
          "output_type": "stream",
          "name": "stdout",
          "text": [
            "0.0062069634371060035\n"
          ]
        }
      ]
    },
    {
      "cell_type": "code",
      "source": [
        "total = df_X['Symptom_5'].value_counts()[0] + df_X['Symptom_5'].value_counts()[1]\n",
        "print(df_X['Symptom_5'].value_counts()[1] / total)"
      ],
      "metadata": {
        "colab": {
          "base_uri": "https://localhost:8080/"
        },
        "id": "gUElgq_q-pGr",
        "outputId": "1b111ad7-5886-47dc-aea9-c6a3f7a2806b"
      },
      "execution_count": null,
      "outputs": [
        {
          "output_type": "stream",
          "name": "stdout",
          "text": [
            "0.02909514111143439\n"
          ]
        }
      ]
    },
    {
      "cell_type": "code",
      "source": [
        "total = df_X['Symptom_6'].value_counts()[0] + df_X['Symptom_6'].value_counts()[1]\n",
        "print(df_X['Symptom_6'].value_counts()[1] / total)"
      ],
      "metadata": {
        "colab": {
          "base_uri": "https://localhost:8080/"
        },
        "id": "WRKZNZqt-pJB",
        "outputId": "82a22aa3-37f8-4fec-e5e8-c65637c7642f"
      },
      "execution_count": null,
      "outputs": [
        {
          "output_type": "stream",
          "name": "stdout",
          "text": [
            "0.02924061681699156\n"
          ]
        }
      ]
    },
    {
      "cell_type": "code",
      "source": [
        "total = df_X['Symptom_7'].value_counts()[0] + df_X['Symptom_7'].value_counts()[1]\n",
        "print(df_X['Symptom_7'].value_counts()[1] / total)"
      ],
      "metadata": {
        "colab": {
          "base_uri": "https://localhost:8080/"
        },
        "id": "vLHhi6bC-pLY",
        "outputId": "1c64f61f-c0e8-4aa6-9e6d-b0bea1d66c8a"
      },
      "execution_count": null,
      "outputs": [
        {
          "output_type": "stream",
          "name": "stdout",
          "text": [
            "0.025070313257685967\n"
          ]
        }
      ]
    },
    {
      "cell_type": "code",
      "source": [
        "total = df_X['Symptom_8'].value_counts()[0] + df_X['Symptom_8'].value_counts()[1]\n",
        "print(df_X['Symptom_8'].value_counts()[1] / total)"
      ],
      "metadata": {
        "colab": {
          "base_uri": "https://localhost:8080/"
        },
        "id": "wKkJ14nf-pN_",
        "outputId": "26a0d4c1-df94-4b28-87ac-a546fcde0023"
      },
      "execution_count": null,
      "outputs": [
        {
          "output_type": "stream",
          "name": "stdout",
          "text": [
            "0.011007661720492678\n"
          ]
        }
      ]
    },
    {
      "cell_type": "code",
      "source": [
        "total = df_X['Symptom_9'].value_counts()[0] + df_X['Symptom_9'].value_counts()[1]\n",
        "print(df_X['Symptom_9'].value_counts()[1] / total)"
      ],
      "metadata": {
        "colab": {
          "base_uri": "https://localhost:8080/"
        },
        "id": "268fa7xb_lx-",
        "outputId": "693c7504-fb40-4075-d2df-72670d57463e"
      },
      "execution_count": null,
      "outputs": [
        {
          "output_type": "stream",
          "name": "stdout",
          "text": [
            "0.06454272136553195\n"
          ]
        }
      ]
    },
    {
      "cell_type": "code",
      "source": [
        "total = df_X['Symptom_10'].value_counts()[0] + df_X['Symptom_10'].value_counts()[1]\n",
        "print(df_X['Symptom_10'].value_counts()[1] / total)"
      ],
      "metadata": {
        "colab": {
          "base_uri": "https://localhost:8080/"
        },
        "id": "VyTWEOrs_oEm",
        "outputId": "aeec16c0-65da-4432-970e-0eb451ccf3f8"
      },
      "execution_count": null,
      "outputs": [
        {
          "output_type": "stream",
          "name": "stdout",
          "text": [
            "0.03234409853554456\n"
          ]
        }
      ]
    },
    {
      "cell_type": "code",
      "source": [
        "total = df_X['Symptom_11'].value_counts()[0] + df_X['Symptom_11'].value_counts()[1]\n",
        "print(df_X['Symptom_11'].value_counts()[1] / total)"
      ],
      "metadata": {
        "colab": {
          "base_uri": "https://localhost:8080/"
        },
        "id": "2qufHbVI_s9I",
        "outputId": "428fe13e-6242-42e1-c7dc-caa52a7cdd7c"
      },
      "execution_count": null,
      "outputs": [
        {
          "output_type": "stream",
          "name": "stdout",
          "text": [
            "0.01799049558723693\n"
          ]
        }
      ]
    },
    {
      "cell_type": "code",
      "source": [
        "total = df_X['Symptom_12'].value_counts()[0] + df_X['Symptom_12'].value_counts()[1]\n",
        "print(df_X['Symptom_12'].value_counts()[1] / total)"
      ],
      "metadata": {
        "colab": {
          "base_uri": "https://localhost:8080/"
        },
        "id": "jMFRE0hT_tEI",
        "outputId": "f37e010f-226e-4a6b-f5f5-1bfe8db723c9"
      },
      "execution_count": null,
      "outputs": [
        {
          "output_type": "stream",
          "name": "stdout",
          "text": [
            "0.06939191155077103\n"
          ]
        }
      ]
    },
    {
      "cell_type": "code",
      "source": [
        "total = df_X['Symptom_13'].value_counts()[0] + df_X['Symptom_13'].value_counts()[1]\n",
        "print(df_X['Symptom_13'].value_counts()[1] / total)"
      ],
      "metadata": {
        "colab": {
          "base_uri": "https://localhost:8080/"
        },
        "id": "lspjdT9O_tGv",
        "outputId": "8d5c64c2-50ca-4555-fe5c-6e1a21dc5268"
      },
      "execution_count": null,
      "outputs": [
        {
          "output_type": "stream",
          "name": "stdout",
          "text": [
            "0.015226457181650664\n"
          ]
        }
      ]
    },
    {
      "cell_type": "code",
      "source": [
        "total = df_X['Symptom_14'].value_counts()[0] + df_X['Symptom_14'].value_counts()[1]\n",
        "print(df_X['Symptom_14'].value_counts()[1] / total)"
      ],
      "metadata": {
        "colab": {
          "base_uri": "https://localhost:8080/"
        },
        "id": "9F1T3IxU_tJG",
        "outputId": "5c59d12b-6d9f-4730-844e-757c4e302316"
      },
      "execution_count": null,
      "outputs": [
        {
          "output_type": "stream",
          "name": "stdout",
          "text": [
            "0.1368441470274464\n"
          ]
        }
      ]
    },
    {
      "cell_type": "code",
      "source": [
        "total = df_X['Symptom_15'].value_counts()[0] + df_X['Symptom_15'].value_counts()[1]\n",
        "print(df_X['Symptom_15'].value_counts()[1] / total)"
      ],
      "metadata": {
        "colab": {
          "base_uri": "https://localhost:8080/"
        },
        "id": "8zyoQ7z9_tLt",
        "outputId": "c3bee090-4a81-4c1b-d375-1b5f08939e35"
      },
      "execution_count": null,
      "outputs": [
        {
          "output_type": "stream",
          "name": "stdout",
          "text": [
            "0.5418485112986131\n"
          ]
        }
      ]
    },
    {
      "cell_type": "code",
      "source": [
        "total = df_X['Symptom_15'].value_counts()[0] + df_X['Symptom_15'].value_counts()[1]\n",
        "print(df_X['Symptom_15'].value_counts()[1] / total)"
      ],
      "metadata": {
        "colab": {
          "base_uri": "https://localhost:8080/"
        },
        "id": "z9aODIvn_tOC",
        "outputId": "57bdced5-2d47-4c73-ad06-640fde4b67dc"
      },
      "execution_count": null,
      "outputs": [
        {
          "output_type": "stream",
          "name": "stdout",
          "text": [
            "0.5418485112986131\n"
          ]
        }
      ]
    },
    {
      "cell_type": "code",
      "source": [
        "total = df_X['Hormon_Drug'].value_counts()[0] + df_X['Hormon_Drug'].value_counts()[1]\n",
        "print(df_X['Hormon_Drug'].value_counts()[1] / total)"
      ],
      "metadata": {
        "colab": {
          "base_uri": "https://localhost:8080/"
        },
        "id": "HMlqc68W_tQY",
        "outputId": "3a81afb3-fb04-4c7f-cb27-aa1dbdf9e9fe"
      },
      "execution_count": null,
      "outputs": [
        {
          "output_type": "stream",
          "name": "stdout",
          "text": [
            "0.040539229948598585\n"
          ]
        }
      ]
    },
    {
      "cell_type": "code",
      "source": [
        "total = df_X['Pregnancy'].value_counts()[0] + df_X['Pregnancy'].value_counts()[1]\n",
        "print(df_X['Pregnancy'].value_counts()[1] / total)"
      ],
      "metadata": {
        "colab": {
          "base_uri": "https://localhost:8080/"
        },
        "id": "0Q0tLkNPFwae",
        "outputId": "b1a73d8e-29db-4b36-e941-94b07b4abcdf"
      },
      "execution_count": null,
      "outputs": [
        {
          "output_type": "stream",
          "name": "stdout",
          "text": [
            "0.139026282610804\n"
          ]
        }
      ]
    },
    {
      "cell_type": "code",
      "source": [
        "total = df_X['Respiratory_Spray'].value_counts()[0] + df_X['Respiratory_Spray'].value_counts()[1]\n",
        "print(df_X['Respiratory_Spray'].value_counts()[1] / total)"
      ],
      "metadata": {
        "colab": {
          "base_uri": "https://localhost:8080/"
        },
        "id": "1v0k3vxXFwiN",
        "outputId": "4620d7f4-6b59-461d-d399-c9b87d362a4b"
      },
      "execution_count": null,
      "outputs": [
        {
          "output_type": "stream",
          "name": "stdout",
          "text": [
            "0.16453302298516148\n"
          ]
        }
      ]
    },
    {
      "cell_type": "code",
      "source": [
        "total = df_X['Corton_Drug'].value_counts()[0] + df_X['Corton_Drug'].value_counts()[1]\n",
        "print(df_X['Corton_Drug'].value_counts()[1] / total)"
      ],
      "metadata": {
        "colab": {
          "base_uri": "https://localhost:8080/"
        },
        "id": "_E1Dj8mQFwk0",
        "outputId": "f42226ac-3313-4abb-d6cd-df3279ecbc9a"
      },
      "execution_count": null,
      "outputs": [
        {
          "output_type": "stream",
          "name": "stdout",
          "text": [
            "0.14368150518863348\n"
          ]
        }
      ]
    },
    {
      "cell_type": "code",
      "source": [
        "total = df_X['Chemotherapy'].value_counts()[0] + df_X['Chemotherapy'].value_counts()[1]\n",
        "print(df_X['Chemotherapy'].value_counts()[1] / total)"
      ],
      "metadata": {
        "colab": {
          "base_uri": "https://localhost:8080/"
        },
        "id": "TwkY2h7AFwm7",
        "outputId": "59c7f907-f849-4fbb-88e4-74ad5494bd59"
      },
      "execution_count": null,
      "outputs": [
        {
          "output_type": "stream",
          "name": "stdout",
          "text": [
            "0.11836873242168558\n"
          ]
        }
      ]
    },
    {
      "cell_type": "code",
      "source": [
        "total = df_X['Imunossupressor'].value_counts()[0] + df_X['Imunossupressor'].value_counts()[1]\n",
        "print(df_X['Imunossupressor'].value_counts()[1] / total)"
      ],
      "metadata": {
        "colab": {
          "base_uri": "https://localhost:8080/"
        },
        "id": "HqDy-_g6FwpS",
        "outputId": "f4e4e9dd-b9e9-4609-80d4-282fce49a798"
      },
      "execution_count": null,
      "outputs": [
        {
          "output_type": "stream",
          "name": "stdout",
          "text": [
            "0.13383764911259818\n"
          ]
        }
      ]
    },
    {
      "cell_type": "code",
      "source": [
        "total = df_X['Covid_Test'].value_counts()[0] + df_X['Covid_Test'].value_counts()[1]\n",
        "print(df_X['Covid_Test'].value_counts()[1] / total)"
      ],
      "metadata": {
        "colab": {
          "base_uri": "https://localhost:8080/"
        },
        "id": "Bp15m1zxFwr4",
        "outputId": "100248ea-7b2a-410c-8383-a88aec282783"
      },
      "execution_count": null,
      "outputs": [
        {
          "output_type": "stream",
          "name": "stdout",
          "text": [
            "0.2797982736882941\n"
          ]
        }
      ]
    },
    {
      "cell_type": "code",
      "source": [
        "total = df_X['Covid_Symptom_0'].value_counts()[0] + df_X['Covid_Symptom_0'].value_counts()[1]\n",
        "print(df_X['Covid_Symptom_0'].value_counts()[1] / total)\n"
      ],
      "metadata": {
        "colab": {
          "base_uri": "https://localhost:8080/"
        },
        "id": "w0tybNWKFwt9",
        "outputId": "2567c010-f4ff-463a-815b-174588fb1a99"
      },
      "execution_count": null,
      "outputs": [
        {
          "output_type": "stream",
          "name": "stdout",
          "text": [
            "0.190912617592862\n"
          ]
        }
      ]
    },
    {
      "cell_type": "code",
      "source": [
        "total = df_X['Covid_Symptom_1'].value_counts()[0] + df_X['Covid_Symptom_1'].value_counts()[1]\n",
        "print(df_X['Covid_Symptom_1'].value_counts()[1] / total)\n"
      ],
      "metadata": {
        "colab": {
          "base_uri": "https://localhost:8080/"
        },
        "id": "zquGlOQsFwwY",
        "outputId": "ec297980-63a5-436b-cccd-9f9686c61131"
      },
      "execution_count": null,
      "outputs": [
        {
          "output_type": "stream",
          "name": "stdout",
          "text": [
            "0.23314906410629424\n"
          ]
        }
      ]
    },
    {
      "cell_type": "code",
      "source": [
        "total = df_X['Covid_Symptom_2'].value_counts()[0] + df_X['Covid_Symptom_2'].value_counts()[1]\n",
        "print(df_X['Covid_Symptom_2'].value_counts()[1] / total)\n"
      ],
      "metadata": {
        "colab": {
          "base_uri": "https://localhost:8080/"
        },
        "id": "7Py3--DiFwyw",
        "outputId": "e5c4b453-ff0b-4b62-bc9b-406129109723"
      },
      "execution_count": null,
      "outputs": [
        {
          "output_type": "stream",
          "name": "stdout",
          "text": [
            "0.1363592280089225\n"
          ]
        }
      ]
    },
    {
      "cell_type": "code",
      "source": [
        "total = df_X['Covid_Symptom_3'].value_counts()[0] + df_X['Covid_Symptom_3'].value_counts()[1]\n",
        "print(df_X['Covid_Symptom_3'].value_counts()[1] / total)\n"
      ],
      "metadata": {
        "colab": {
          "base_uri": "https://localhost:8080/"
        },
        "id": "Vun3XPpAFw0_",
        "outputId": "cef09187-38ad-4c56-f824-1a48e382fdc1"
      },
      "execution_count": null,
      "outputs": [
        {
          "output_type": "stream",
          "name": "stdout",
          "text": [
            "0.09407428959363787\n"
          ]
        }
      ]
    },
    {
      "cell_type": "code",
      "source": [
        "total = df_X['Covid_Symptom_4'].value_counts()[0] + df_X['Covid_Symptom_4'].value_counts()[1]\n",
        "print(df_X['Covid_Symptom_4'].value_counts()[1] / total)\n"
      ],
      "metadata": {
        "colab": {
          "base_uri": "https://localhost:8080/"
        },
        "id": "gf3SynMOH6wb",
        "outputId": "1d755623-fe90-452b-c7b5-4f68035fa410"
      },
      "execution_count": null,
      "outputs": [
        {
          "output_type": "stream",
          "name": "stdout",
          "text": [
            "0.15265250703132577\n"
          ]
        }
      ]
    },
    {
      "cell_type": "code",
      "source": [
        "total = df_X['Covid_Symptom_5'].value_counts()[0] + df_X['Covid_Symptom_5'].value_counts()[1]\n",
        "print(df_X['Covid_Symptom_5'].value_counts()[1] / total)\n"
      ],
      "metadata": {
        "colab": {
          "base_uri": "https://localhost:8080/"
        },
        "id": "mYY-xT7KH60V",
        "outputId": "ca4e8b2c-00a0-4376-892f-85f4483f509d"
      },
      "execution_count": null,
      "outputs": [
        {
          "output_type": "stream",
          "name": "stdout",
          "text": [
            "0.07501697216564834\n"
          ]
        }
      ]
    },
    {
      "cell_type": "code",
      "source": [
        "total = df_X['Covid_Symptom_6'].value_counts()[0] + df_X['Covid_Symptom_6'].value_counts()[1]\n",
        "print(df_X['Covid_Symptom_6'].value_counts()[1] / total)\n"
      ],
      "metadata": {
        "colab": {
          "base_uri": "https://localhost:8080/"
        },
        "id": "BqGLL_tdH62n",
        "outputId": "81910289-de71-4110-9ce0-467b1c8e8d78"
      },
      "execution_count": null,
      "outputs": [
        {
          "output_type": "stream",
          "name": "stdout",
          "text": [
            "0.012268451168654835\n"
          ]
        }
      ]
    },
    {
      "cell_type": "code",
      "source": [
        "total = df_X['Covid_Symptom_7'].value_counts()[0] + df_X['Covid_Symptom_7'].value_counts()[1]\n",
        "print(df_X['Covid_Symptom_7'].value_counts()[1] / total)\n"
      ],
      "metadata": {
        "colab": {
          "base_uri": "https://localhost:8080/"
        },
        "id": "Q8f0GC9SH65Q",
        "outputId": "4c5c8425-5e0c-4405-bc35-97646c341a90"
      },
      "execution_count": null,
      "outputs": [
        {
          "output_type": "stream",
          "name": "stdout",
          "text": [
            "0.007564736688972942\n"
          ]
        }
      ]
    },
    {
      "cell_type": "code",
      "source": [
        "total = df_X['Covid_Symptom_8'].value_counts()[0] + df_X['Covid_Symptom_8'].value_counts()[1]\n",
        "print(df_X['Covid_Symptom_8'].value_counts()[1] / total)\n"
      ],
      "metadata": {
        "colab": {
          "base_uri": "https://localhost:8080/"
        },
        "id": "-pB_9RwUH67m",
        "outputId": "3bdec477-8bd7-4f6c-9b5d-3b7b97793485"
      },
      "execution_count": null,
      "outputs": [
        {
          "output_type": "stream",
          "name": "stdout",
          "text": [
            "0.06594898651925128\n"
          ]
        }
      ]
    },
    {
      "cell_type": "code",
      "source": [
        "total = df_X['Covid_Symptom_9'].value_counts()[0] + df_X['Covid_Symptom_9'].value_counts()[1]\n",
        "print(df_X['Covid_Symptom_9'].value_counts()[1] / total)\n"
      ],
      "metadata": {
        "colab": {
          "base_uri": "https://localhost:8080/"
        },
        "id": "e0CRj6ikH697",
        "outputId": "9aa89cf5-d936-4b03-e6a3-c0a55663910e"
      },
      "execution_count": null,
      "outputs": [
        {
          "output_type": "stream",
          "name": "stdout",
          "text": [
            "0.1639996120647852\n"
          ]
        }
      ]
    },
    {
      "cell_type": "code",
      "source": [
        "total = df_X['Covid_Symptom_10'].value_counts()[0] + df_X['Covid_Symptom_10'].value_counts()[1]\n",
        "print(df_X['Covid_Symptom_10'].value_counts()[1] / total)\n"
      ],
      "metadata": {
        "colab": {
          "base_uri": "https://localhost:8080/"
        },
        "id": "wpOYoJfPH7AQ",
        "outputId": "e7cb9bf6-e4a6-4402-df28-376f8a17e6d8"
      },
      "execution_count": null,
      "outputs": [
        {
          "output_type": "stream",
          "name": "stdout",
          "text": [
            "0.09965085830666279\n"
          ]
        }
      ]
    },
    {
      "cell_type": "code",
      "source": [
        "total = df_X['Covid_Symptom_11'].value_counts()[0] + df_X['Covid_Symptom_11'].value_counts()[1]\n",
        "print(df_X['Covid_Symptom_11'].value_counts()[1] / total)\n"
      ],
      "metadata": {
        "colab": {
          "base_uri": "https://localhost:8080/"
        },
        "id": "wZVYi9FJH7Cm",
        "outputId": "28db74bb-1c59-4cda-d5de-7e4ab98da9c1"
      },
      "execution_count": null,
      "outputs": [
        {
          "output_type": "stream",
          "name": "stdout",
          "text": [
            "0.0855397148676171\n"
          ]
        }
      ]
    },
    {
      "cell_type": "code",
      "source": [
        "total = df_X['Covid_Severity'].value_counts()[0] + df_X['Covid_Severity'].value_counts()[1]\n",
        "print(df_X['Covid_Severity'].value_counts()[1] / total)\n"
      ],
      "metadata": {
        "colab": {
          "base_uri": "https://localhost:8080/"
        },
        "id": "whLY6oSqIjkm",
        "outputId": "153bfad5-e1ba-4161-9c81-82d6a3fb51c2"
      },
      "execution_count": null,
      "outputs": [
        {
          "output_type": "stream",
          "name": "stdout",
          "text": [
            "0.02448841043545728\n"
          ]
        }
      ]
    },
    {
      "cell_type": "markdown",
      "source": [
        "# More Data Cleaning\n",
        "Remove more correlated features like symptom 15 and covid_test\n"
      ],
      "metadata": {
        "id": "3QUu1i_5MHVC"
      }
    },
    {
      "cell_type": "code",
      "source": [
        "print(df_X.shape)"
      ],
      "metadata": {
        "colab": {
          "base_uri": "https://localhost:8080/"
        },
        "id": "WzUuqWTXOKAi",
        "outputId": "998d0a69-f7c4-40c3-aa20-d7b9fc1d0677"
      },
      "execution_count": null,
      "outputs": [
        {
          "output_type": "stream",
          "name": "stdout",
          "text": [
            "(20622, 61)\n"
          ]
        }
      ]
    },
    {
      "cell_type": "code",
      "source": [
        "df_X = df_X.drop('Symptom_15', axis=1)"
      ],
      "metadata": {
        "id": "LYdThN71OKO4"
      },
      "execution_count": null,
      "outputs": []
    },
    {
      "cell_type": "code",
      "source": [
        "print(df_X.shape)"
      ],
      "metadata": {
        "colab": {
          "base_uri": "https://localhost:8080/"
        },
        "id": "yMK_sIGzPMjs",
        "outputId": "ef93925b-76e7-4c28-e84f-7dcea7463464"
      },
      "execution_count": null,
      "outputs": [
        {
          "output_type": "stream",
          "name": "stdout",
          "text": [
            "(20622, 60)\n"
          ]
        }
      ]
    },
    {
      "cell_type": "code",
      "source": [
        "df_X = df_X.drop('Covid_Test', axis=1)\n",
        "print(df_X.shape)"
      ],
      "metadata": {
        "colab": {
          "base_uri": "https://localhost:8080/"
        },
        "id": "vVshi6dmPOek",
        "outputId": "d6e26591-6e6c-489f-fd7c-d5e49215940c"
      },
      "execution_count": null,
      "outputs": [
        {
          "output_type": "stream",
          "name": "stdout",
          "text": [
            "(20622, 59)\n"
          ]
        }
      ]
    },
    {
      "cell_type": "code",
      "source": [
        "df_X = df_X.drop('Narcotics', axis=1)\n",
        "print(df_X.shape)"
      ],
      "metadata": {
        "colab": {
          "base_uri": "https://localhost:8080/"
        },
        "id": "kGtGeYSfjJc5",
        "outputId": "4c15746d-d588-462b-aca4-e5646919ef32"
      },
      "execution_count": null,
      "outputs": [
        {
          "output_type": "stream",
          "name": "stdout",
          "text": [
            "(20622, 58)\n"
          ]
        }
      ]
    },
    {
      "cell_type": "code",
      "source": [
        "df_X = df_X.drop('Alcohol', axis=1)\n",
        "print(df_X.shape)"
      ],
      "metadata": {
        "colab": {
          "base_uri": "https://localhost:8080/"
        },
        "id": "PdKVDd-Mjb--",
        "outputId": "2eceb072-6eb1-47fb-c38d-0319bc350809"
      },
      "execution_count": null,
      "outputs": [
        {
          "output_type": "stream",
          "name": "stdout",
          "text": [
            "(20622, 57)\n"
          ]
        }
      ]
    },
    {
      "cell_type": "markdown",
      "source": [
        "# Export df_X to a clean .csv file"
      ],
      "metadata": {
        "id": "QbKkB78IrWhc"
      }
    },
    {
      "cell_type": "code",
      "source": [
        "df_X.to_csv('cleaned_data_0320.csv', index=False)"
      ],
      "metadata": {
        "id": "2rXy7qtNraIp"
      },
      "execution_count": null,
      "outputs": []
    },
    {
      "cell_type": "code",
      "source": [],
      "metadata": {
        "id": "gNjhIaXxIr50"
      },
      "execution_count": null,
      "outputs": []
    }
  ]
}